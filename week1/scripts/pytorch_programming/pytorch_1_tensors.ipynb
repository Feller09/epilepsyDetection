{
 "cells": [
  {
   "cell_type": "code",
   "execution_count": 1,
   "id": "lyric-palestine",
   "metadata": {},
   "outputs": [],
   "source": [
    "## implementing neural network using tensors in  pytorch \n",
    "## Tensor us identical to a numpy array : a Tensor is a n-d array .\n",
    "import torch \n",
    "import math "
   ]
  },
  {
   "cell_type": "code",
   "execution_count": 2,
   "id": "explicit-fellow",
   "metadata": {},
   "outputs": [],
   "source": [
    "dtype=torch.float \n",
    "device = torch.device(\"cpu\")"
   ]
  },
  {
   "cell_type": "code",
   "execution_count": 3,
   "id": "surrounded-canberra",
   "metadata": {},
   "outputs": [],
   "source": [
    "x = torch.linspace(-math.pi, math.pi, 2000, device=device, dtype=dtype)\n",
    "y = torch.sin(x)"
   ]
  },
  {
   "cell_type": "code",
   "execution_count": 4,
   "id": "affiliated-sacrifice",
   "metadata": {},
   "outputs": [],
   "source": [
    "##this creates random input values in x and y \n",
    "\n",
    "##now randomly initalizing weights \n",
    "a = torch.randn((), device=device, dtype=dtype)\n",
    "b = torch.randn((), device=device, dtype=dtype)\n",
    "c = torch.randn((), device=device, dtype=dtype)\n",
    "d = torch.randn((), device=device, dtype=dtype)"
   ]
  },
  {
   "cell_type": "code",
   "execution_count": 5,
   "id": "supreme-settle",
   "metadata": {},
   "outputs": [],
   "source": [
    "learning_rate = 1e-6"
   ]
  },
  {
   "cell_type": "code",
   "execution_count": 10,
   "id": "superior-foster",
   "metadata": {},
   "outputs": [
    {
     "name": "stdout",
     "output_type": "stream",
     "text": [
      "99 446.4488830566406\n",
      "199 318.43328857421875\n",
      "299 227.86856079101562\n",
      "399 163.7968292236328\n",
      "499 118.4673843383789\n",
      "599 86.39720916748047\n",
      "699 63.707557678222656\n",
      "799 47.65427780151367\n",
      "899 36.29624557495117\n",
      "999 28.260116577148438\n",
      "1099 22.574234008789062\n",
      "1199 18.551219940185547\n",
      "1299 15.704702377319336\n",
      "1399 13.690637588500977\n",
      "1499 12.265557289123535\n",
      "1599 11.257203102111816\n",
      "1699 10.543716430664062\n",
      "1799 10.03886604309082\n",
      "1899 9.681642532348633\n",
      "1999 9.428873062133789\n"
     ]
    }
   ],
   "source": [
    "for t in range(2000):\n",
    "    ##forward pas :compute predicted y \n",
    "    y_pred = a + b * x + c * x ** 2 + d * x ** 3\n",
    "        \n",
    "    # compute and print loss\n",
    "    loss = (y_pred - y).pow(2).sum().item()\n",
    "    if t % 100 == 99:\n",
    "        print(t, loss)\n",
    "\n",
    "    # backprop to compute gradients of a, b, c, d with respect to loss\n",
    "    grad_y_pred = 2.0 * (y_pred - y)\n",
    "    grad_a = grad_y_pred.sum()\n",
    "    grad_b = (grad_y_pred * x).sum()\n",
    "    grad_c = (grad_y_pred * x ** 2).sum()\n",
    "    grad_d = (grad_y_pred * x ** 3).sum()\n",
    "\n",
    "    # update weights using gradient descent\n",
    "    a -= learning_rate * grad_a\n",
    "    b -= learning_rate * grad_b\n",
    "    c -= learning_rate * grad_c\n",
    "    d -= learning_rate * grad_d"
   ]
  },
  {
   "cell_type": "code",
   "execution_count": 11,
   "id": "detailed-ethics",
   "metadata": {},
   "outputs": [
    {
     "name": "stdout",
     "output_type": "stream",
     "text": [
      "Result: y = -0.026165788993239403 + 0.8575130105018616 x + 0.004514032043516636 x^2 + -0.0934402197599411 x^3\n"
     ]
    }
   ],
   "source": [
    "print(f'Result: y = {a.item()} + {b.item()} x + {c.item()} x^2 + {d.item()} x^3')\n"
   ]
  },
  {
   "cell_type": "code",
   "execution_count": null,
   "id": "exotic-longer",
   "metadata": {},
   "outputs": [],
   "source": []
  }
 ],
 "metadata": {
  "kernelspec": {
   "display_name": "Python 3",
   "language": "python",
   "name": "python3"
  },
  "language_info": {
   "codemirror_mode": {
    "name": "ipython",
    "version": 3
   },
   "file_extension": ".py",
   "mimetype": "text/x-python",
   "name": "python",
   "nbconvert_exporter": "python",
   "pygments_lexer": "ipython3",
   "version": "3.8.5"
  }
 },
 "nbformat": 4,
 "nbformat_minor": 5
}
