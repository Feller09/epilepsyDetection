{
 "cells": [
  {
   "cell_type": "code",
   "execution_count": 2,
   "id": "instrumental-jungle",
   "metadata": {},
   "outputs": [],
   "source": [
    "## optimise the previous model using the nn module using the RMSprop algorithm \n",
    "import torch \n",
    "import math "
   ]
  },
  {
   "cell_type": "code",
   "execution_count": 3,
   "id": "veterinary-corruption",
   "metadata": {},
   "outputs": [],
   "source": [
    "# Create Tensors to hold input and outputs.\n",
    "x = torch.linspace(-math.pi, math.pi, 2000)\n",
    "y = torch.sin(x)\n",
    "\n",
    "\n",
    "# Prepare the input tensor (x, x^2, x^3).\n",
    "p = torch.tensor([1, 2, 3])\n",
    "xx = x.unsqueeze(-1).pow(p)"
   ]
  },
  {
   "cell_type": "code",
   "execution_count": 4,
   "id": "aquatic-honduras",
   "metadata": {},
   "outputs": [],
   "source": [
    "# Use the nn package to define our model and loss function.\n",
    "model = torch.nn.Sequential(\n",
    "    torch.nn.Linear(3, 1),\n",
    "    torch.nn.Flatten(0, 1)\n",
    ")\n",
    "loss_fn = torch.nn.MSELoss(reduction='sum')"
   ]
  },
  {
   "cell_type": "code",
   "execution_count": 5,
   "id": "geological-clear",
   "metadata": {},
   "outputs": [],
   "source": [
    "#The first argument to the RMSprop constructor tells the\n",
    "# optimizer which Tensors it should update.\n",
    "learning_rate = 1e-3\n",
    "optimizer = torch.optim.RMSprop(model.parameters(), lr=learning_rate)"
   ]
  },
  {
   "cell_type": "code",
   "execution_count": 7,
   "id": "occupational-savage",
   "metadata": {},
   "outputs": [
    {
     "name": "stdout",
     "output_type": "stream",
     "text": [
      "99 390.3463439941406\n",
      "199 290.927978515625\n",
      "299 212.53924560546875\n",
      "399 141.4127197265625\n",
      "499 86.02874755859375\n",
      "599 48.272743225097656\n",
      "699 25.561908721923828\n",
      "799 14.010819435119629\n",
      "899 9.73947811126709\n",
      "999 10.311946868896484\n",
      "1099 8.818562507629395\n",
      "1199 9.324156761169434\n",
      "1299 9.094321250915527\n",
      "1399 9.003771781921387\n",
      "1499 8.900794982910156\n",
      "1599 8.892151832580566\n",
      "1699 8.9238920211792\n",
      "1799 8.93246841430664\n",
      "1899 8.918681144714355\n",
      "1999 8.91674518585205\n"
     ]
    }
   ],
   "source": [
    "for t in range(2000):\n",
    "    #forward pass : compute the predicted y by passing x to model\n",
    "    y_pred=model(xx)\n",
    "    \n",
    "    #compute and print the loss \n",
    "    loss=loss_fn(y_pred,y)\n",
    "    if t%100==99:\n",
    "        print(t,loss.item())\n",
    "    \n",
    "    #before the backward pass using the optimizer to 0 all of the gradients \n",
    "    ## for the varibales it will update weight of the model \n",
    "    \n",
    "    ### This is because by default ,gradients are accumulated in buffers \n",
    "    optimizer.zero_grad()\n",
    "    \n",
    "    #backward pass :compute gradient of the loss wrt to model parameters\n",
    "    loss.backward()\n",
    "    \n",
    "    ##calling the step function on an otpmizer makes an update to its parameters\n",
    "    optimizer.step()\n",
    "    \n",
    "    "
   ]
  },
  {
   "cell_type": "code",
   "execution_count": 8,
   "id": "affiliated-checklist",
   "metadata": {},
   "outputs": [
    {
     "name": "stdout",
     "output_type": "stream",
     "text": [
      "Result: y = -0.00048791541485115886 + 0.8572320342063904 x + -0.0004879360203631222 x^2 + -0.09283915907144547 x^3\n"
     ]
    }
   ],
   "source": [
    "linear_layer = model[0]\n",
    "print(f'Result: y = {linear_layer.bias.item()} + {linear_layer.weight[:, 0].item()} x + {linear_layer.weight[:, 1].item()} x^2 + {linear_layer.weight[:, 2].item()} x^3')\n"
   ]
  },
  {
   "cell_type": "code",
   "execution_count": null,
   "id": "forward-rough",
   "metadata": {},
   "outputs": [],
   "source": []
  }
 ],
 "metadata": {
  "kernelspec": {
   "display_name": "Python 3",
   "language": "python",
   "name": "python3"
  },
  "language_info": {
   "codemirror_mode": {
    "name": "ipython",
    "version": 3
   },
   "file_extension": ".py",
   "mimetype": "text/x-python",
   "name": "python",
   "nbconvert_exporter": "python",
   "pygments_lexer": "ipython3",
   "version": "3.8.5"
  }
 },
 "nbformat": 4,
 "nbformat_minor": 5
}
