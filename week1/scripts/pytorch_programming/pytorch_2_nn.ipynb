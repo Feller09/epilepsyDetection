{
 "cells": [
  {
   "cell_type": "code",
   "execution_count": 1,
   "id": "yellow-kuwait",
   "metadata": {},
   "outputs": [],
   "source": [
    "## nn module is a higher level abstraction over the more primiive tensor one "
   ]
  },
  {
   "cell_type": "code",
   "execution_count": 2,
   "id": "polish-stevens",
   "metadata": {},
   "outputs": [],
   "source": [
    "import torch \n",
    "import math "
   ]
  },
  {
   "cell_type": "code",
   "execution_count": 3,
   "id": "robust-exhibit",
   "metadata": {},
   "outputs": [],
   "source": [
    "# Create Tensors to hold input and outputs.\n",
    "x = torch.linspace(-math.pi, math.pi, 2000)\n",
    "y = torch.sin(x)"
   ]
  },
  {
   "cell_type": "code",
   "execution_count": 4,
   "id": "silent-saying",
   "metadata": {},
   "outputs": [],
   "source": [
    "p = torch.tensor([1, 2, 3])\n",
    "xx = x.unsqueeze(-1).pow(p)\n",
    "\n",
    "## assumming y is  a linear function of (x,x^2 ,x^3)"
   ]
  },
  {
   "cell_type": "code",
   "execution_count": 5,
   "id": "united-winning",
   "metadata": {},
   "outputs": [],
   "source": [
    "# to match the shape of `y`.\n",
    "model = torch.nn.Sequential(\n",
    "    torch.nn.Linear(3, 1),\n",
    "    torch.nn.Flatten(0, 1)\n",
    ")"
   ]
  },
  {
   "cell_type": "code",
   "execution_count": 6,
   "id": "informative-secret",
   "metadata": {},
   "outputs": [],
   "source": [
    "#we will use Mean Squared Error (MSE) as our loss function.\n",
    "loss_fn = torch.nn.MSELoss(reduction='sum')\n"
   ]
  },
  {
   "cell_type": "code",
   "execution_count": 9,
   "id": "conscious-cleaner",
   "metadata": {},
   "outputs": [
    {
     "name": "stdout",
     "output_type": "stream",
     "text": [
      "99 928.0120239257812\n",
      "199 616.6859741210938\n",
      "299 410.8066101074219\n",
      "399 274.65826416015625\n",
      "499 184.6226806640625\n",
      "599 125.08139038085938\n",
      "699 85.70562744140625\n",
      "799 59.66613006591797\n",
      "899 42.445556640625\n",
      "999 31.057117462158203\n",
      "1099 23.525583267211914\n",
      "1199 18.54472541809082\n",
      "1299 15.2506103515625\n",
      "1399 13.072067260742188\n",
      "1499 11.631263732910156\n",
      "1599 10.678399085998535\n",
      "1699 10.048199653625488\n",
      "1799 9.631372451782227\n",
      "1899 9.355694770812988\n",
      "1999 9.173376083374023\n",
      "Result: y = 0.0013100256910547614 + 0.8384336829185486 x + -0.0002260011970065534 x^2 + -0.0907263532280922 x^3\n"
     ]
    }
   ],
   "source": [
    "learning_rate = 1e-6\n",
    "for t in range(2000):\n",
    "    y_pred=model(xx) ## doing a forward pass \n",
    "    # Compute and print loss. We pass Tensors containing the predicted and true\n",
    "    # values of y, and the loss function returns a Tensor containing the\n",
    "    # loss.\n",
    "    loss = loss_fn(y_pred, y)\n",
    "    if t % 100 == 99:\n",
    "        print(t, loss.item())\n",
    "    #zero the gradients before running the backward pass \n",
    "    model.zero_grad()\n",
    "    ##now doing a backward pass \n",
    "    loss.backward()\n",
    "    \n",
    "    # Update the weights using gradient descent. Each parameter is a Tensor, so\n",
    "    # we can access its gradients like we did before.\n",
    "    with torch.no_grad():\n",
    "        for param in model.parameters():\n",
    "            param -= learning_rate * param.grad\n",
    "#the first layer of model is accessed now like a list \n",
    "linear_layer=model[0]\n",
    "# For linear layer, its parameters are stored as `weight` and `bias`.\n",
    "print(f'Result: y = {linear_layer.bias.item()} + {linear_layer.weight[:, 0].item()} x + {linear_layer.weight[:, 1].item()} x^2 + {linear_layer.weight[:, 2].item()} x^3')"
   ]
  },
  {
   "cell_type": "code",
   "execution_count": null,
   "id": "boolean-intervention",
   "metadata": {},
   "outputs": [],
   "source": []
  }
 ],
 "metadata": {
  "kernelspec": {
   "display_name": "Python 3",
   "language": "python",
   "name": "python3"
  },
  "language_info": {
   "codemirror_mode": {
    "name": "ipython",
    "version": 3
   },
   "file_extension": ".py",
   "mimetype": "text/x-python",
   "name": "python",
   "nbconvert_exporter": "python",
   "pygments_lexer": "ipython3",
   "version": "3.8.5"
  }
 },
 "nbformat": 4,
 "nbformat_minor": 5
}
