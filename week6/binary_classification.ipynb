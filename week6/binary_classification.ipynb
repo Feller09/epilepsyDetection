{
 "cells": [
  {
   "cell_type": "code",
   "execution_count": 1,
   "metadata": {
    "executionInfo": {
     "elapsed": 2618,
     "status": "ok",
     "timestamp": 1615268843012,
     "user": {
      "displayName": "pooja prabhu",
      "photoUrl": "https://lh3.googleusercontent.com/a-/AOh14GjbvH44s1yMedrQ0YbmGDfMm7vohqQo8olSfLJvbA=s64",
      "userId": "12926824767965274790"
     },
     "user_tz": -330
    },
    "id": "bfWcDvJFfFT6"
   },
   "outputs": [],
   "source": [
    "import tensorflow as tf \n",
    "import numpy as np \n",
    "from numpy import random\n",
    "from keras.models import Sequential \n",
    "from keras.utils import np_utils \n",
    "from keras.layers import Dense,Activation,LSTM,Dropout,AveragePooling3D \n",
    "import pandas as pd \n",
    "import matplotlib.pyplot as plt \n",
    "from tensorflow import keras\n",
    "import os\n",
    "import glob"
   ]
  },
  {
   "cell_type": "code",
   "execution_count": null,
   "metadata": {
    "id": "2zdMLSh3fY8i"
   },
   "outputs": [],
   "source": [
    "#! pip install pandas "
   ]
  },
  {
   "cell_type": "code",
   "execution_count": 3,
   "metadata": {
    "colab": {
     "base_uri": "https://localhost:8080/"
    },
    "executionInfo": {
     "elapsed": 1046,
     "status": "ok",
     "timestamp": 1615269185068,
     "user": {
      "displayName": "pooja prabhu",
      "photoUrl": "https://lh3.googleusercontent.com/a-/AOh14GjbvH44s1yMedrQ0YbmGDfMm7vohqQo8olSfLJvbA=s64",
      "userId": "12926824767965274790"
     },
     "user_tz": -330
    },
    "id": "pDrDAZVaGeiI",
    "outputId": "b94de61f-7bae-427d-eae8-c0c1abdd5565"
   },
   "outputs": [
    {
     "name": "stdout",
     "output_type": "stream",
     "text": [
      "Drive already mounted at /content/drive; to attempt to forcibly remount, call drive.mount(\"/content/drive\", force_remount=True).\n"
     ]
    }
   ],
   "source": [
    "from google.colab import drive \n",
    "drive.mount('/content/drive') "
   ]
  },
  {
   "cell_type": "code",
   "execution_count": null,
   "metadata": {
    "id": "YwYBYaUZKQu2"
   },
   "outputs": [],
   "source": [
    "\n",
    "# ! ls \"/content/drive/\""
   ]
  },
  {
   "cell_type": "code",
   "execution_count": null,
   "metadata": {
    "id": "B-vzDWJVLVlg"
   },
   "outputs": [],
   "source": [
    "# ! ls \"/content/drive/MyDrive/Colab Notebooks\""
   ]
  },
  {
   "cell_type": "code",
   "execution_count": 5,
   "metadata": {
    "colab": {
     "base_uri": "https://localhost:8080/"
    },
    "executionInfo": {
     "elapsed": 7775,
     "status": "ok",
     "timestamp": 1615269208125,
     "user": {
      "displayName": "pooja prabhu",
      "photoUrl": "https://lh3.googleusercontent.com/a-/AOh14GjbvH44s1yMedrQ0YbmGDfMm7vohqQo8olSfLJvbA=s64",
      "userId": "12926824767965274790"
     },
     "user_tz": -330
    },
    "id": "TFDJP4bnfcSY",
    "outputId": "31b9e390-570a-4a12-98dd-43bc51583731"
   },
   "outputs": [
    {
     "name": "stderr",
     "output_type": "stream",
     "text": [
      "/usr/local/lib/python3.7/dist-packages/ipykernel_launcher.py:14: SettingWithCopyWarning: \n",
      "A value is trying to be set on a copy of a slice from a DataFrame\n",
      "\n",
      "See the caveats in the documentation: https://pandas.pydata.org/pandas-docs/stable/user_guide/indexing.html#returning-a-view-versus-a-copy\n",
      "  \n",
      "/usr/local/lib/python3.7/dist-packages/ipykernel_launcher.py:15: SettingWithCopyWarning: \n",
      "A value is trying to be set on a copy of a slice from a DataFrame\n",
      "\n",
      "See the caveats in the documentation: https://pandas.pydata.org/pandas-docs/stable/user_guide/indexing.html#returning-a-view-versus-a-copy\n",
      "  from ipykernel import kernelapp as app\n"
     ]
    },
    {
     "name": "stdout",
     "output_type": "stream",
     "text": [
      "         0      1      2      3      4  ...   4094   4095   4096  filename  y\n",
      "0     12.0   22.0   35.0   45.0   69.0  ...  -11.0    8.0   77.0  Z001.txt  1\n",
      "1    -56.0  -50.0  -64.0  -91.0 -135.0  ... -173.0 -162.0  -82.0  Z002.txt  1\n",
      "2    -37.0  -22.0  -17.0  -24.0  -31.0  ...    3.0    4.0   82.0  Z003.txt  1\n",
      "3    -31.0  -43.0  -39.0  -39.0   -9.0  ...   -6.0   10.0   33.0  Z004.txt  1\n",
      "4     14.0   26.0   32.0   25.0   16.0  ...  -32.0   -6.0  -17.0  Z005.txt  1\n",
      "..     ...    ...    ...    ...    ...  ...    ...    ...    ...       ... ..\n",
      "495  -40.0  -58.0  -75.0  -88.0  -89.0  ...  -13.0  -16.0 -151.0  S096.txt  0\n",
      "496  187.0   44.0 -147.0 -368.0 -550.0  ...  703.0  446.0 -537.0  S097.txt  0\n",
      "497 -438.0 -561.0 -622.0 -581.0 -460.0  ... -118.0 -163.0  -56.0  S098.txt  0\n",
      "498 -476.0 -518.0 -521.0 -362.0  -68.0  ...  246.0  556.0  276.0  S099.txt  0\n",
      "499   23.0  144.0  228.0  260.0  255.0  ... -155.0    6.0 -221.0  S100.txt  0\n",
      "\n",
      "[500 rows x 4099 columns]\n"
     ]
    }
   ],
   "source": [
    "\n",
    "dataset_path='/content/drive/MyDrive/Colab Notebooks/dataset/' #path wher all the .txt files are located\n",
    "files=os.listdir(dataset_path)\n",
    "\n",
    "data_list=[]\n",
    "for i in range(len(files)):\n",
    "    tmp= np.loadtxt(dataset_path+files[i], delimiter=',', unpack=True)\n",
    "    data_list.append(tmp)\n",
    "data=np.asarray(data_list)    \n",
    "\n",
    "df = pd.DataFrame(data)\n",
    "df['filename']=files\n",
    "df['y']=1 ## mmake all 1's then make normal subjects data to be 0's\n",
    "df['y'][200:300]=0 ## O set--normal subjects\n",
    "df['y'][400:500]=0  ## Z set--normal subjects\n",
    "\n",
    "\n",
    "df.head()\n",
    "print(df)\n",
    "\n",
    "x=df.values\n",
    "x_signals=x[:,1:(x.shape[1]-2)]\n",
    "x_signals = np.asarray(x_signals).astype(np.float32)\n"
   ]
  },
  {
   "cell_type": "code",
   "execution_count": 6,
   "metadata": {
    "executionInfo": {
     "elapsed": 1156,
     "status": "ok",
     "timestamp": 1615269214367,
     "user": {
      "displayName": "pooja prabhu",
      "photoUrl": "https://lh3.googleusercontent.com/a-/AOh14GjbvH44s1yMedrQ0YbmGDfMm7vohqQo8olSfLJvbA=s64",
      "userId": "12926824767965274790"
     },
     "user_tz": -330
    },
    "id": "Y2lyfmduNANv"
   },
   "outputs": [],
   "source": [
    "n_sample_points=400 #for every 2.3s segment the data\n",
    "n_seg=x_signals.shape[1]/n_sample_points\n",
    "data_seg_list=[]\n",
    "data_seg_label_list=[]\n",
    "for sig in range(x_signals.shape[0]):\n",
    "  individual_signal=x_signals[sig,:]\n",
    "  label=df['y'][sig]\n",
    "  for seg in range(0,int(n_seg)):\n",
    "    data_segmented=individual_signal[(seg*n_sample_points):((seg+1)*n_sample_points)]\n",
    "    data_seg_list.append(data_segmented)\n",
    "    data_seg_label_list.append(label)\n",
    "\n"
   ]
  },
  {
   "cell_type": "code",
   "execution_count": 7,
   "metadata": {
    "executionInfo": {
     "elapsed": 1029,
     "status": "ok",
     "timestamp": 1615269218477,
     "user": {
      "displayName": "pooja prabhu",
      "photoUrl": "https://lh3.googleusercontent.com/a-/AOh14GjbvH44s1yMedrQ0YbmGDfMm7vohqQo8olSfLJvbA=s64",
      "userId": "12926824767965274790"
     },
     "user_tz": -330
    },
    "id": "cAhC97wxOaGP"
   },
   "outputs": [],
   "source": [
    "data_seg=np.asarray(data_seg_list)\n",
    "data_seg_label_=np.asarray(data_seg_label_list)\n",
    "data_seg_label=np.empty((data_seg_label_.shape[0],1))\n",
    "data_seg_label[:,0]=data_seg_label_\n",
    "\n",
    "\n",
    "indices=np.arange(0,data_seg.shape[0])\n",
    "\n",
    "shuffle_indices=random.permutation(indices)"
   ]
  },
  {
   "cell_type": "code",
   "execution_count": 8,
   "metadata": {
    "executionInfo": {
     "elapsed": 980,
     "status": "ok",
     "timestamp": 1615269221883,
     "user": {
      "displayName": "pooja prabhu",
      "photoUrl": "https://lh3.googleusercontent.com/a-/AOh14GjbvH44s1yMedrQ0YbmGDfMm7vohqQo8olSfLJvbA=s64",
      "userId": "12926824767965274790"
     },
     "user_tz": -330
    },
    "id": "vhpyH7Xdf0lf"
   },
   "outputs": [],
   "source": [
    "###spilitting train and test by ratio 80:20\n",
    "train_ratio=0.8\n",
    "split_indices=data_seg.shape[0]*0.8"
   ]
  },
  {
   "cell_type": "code",
   "execution_count": 9,
   "metadata": {
    "executionInfo": {
     "elapsed": 1106,
     "status": "ok",
     "timestamp": 1615269224830,
     "user": {
      "displayName": "pooja prabhu",
      "photoUrl": "https://lh3.googleusercontent.com/a-/AOh14GjbvH44s1yMedrQ0YbmGDfMm7vohqQo8olSfLJvbA=s64",
      "userId": "12926824767965274790"
     },
     "user_tz": -330
    },
    "id": "GJUtyXvdhGOT"
   },
   "outputs": [],
   "source": [
    "train_data=data_seg[shuffle_indices[0:int(split_indices)],:]\n",
    "train_labels=data_seg_label[shuffle_indices[0:int(split_indices)],:]\n",
    "test_data=data_seg[shuffle_indices[(int(split_indices)):-1],:]\n",
    "test_labels=data_seg_label[shuffle_indices[(int(split_indices)):-1],:]\n"
   ]
  },
  {
   "cell_type": "code",
   "execution_count": 12,
   "metadata": {
    "executionInfo": {
     "elapsed": 1302,
     "status": "ok",
     "timestamp": 1615269302902,
     "user": {
      "displayName": "pooja prabhu",
      "photoUrl": "https://lh3.googleusercontent.com/a-/AOh14GjbvH44s1yMedrQ0YbmGDfMm7vohqQo8olSfLJvbA=s64",
      "userId": "12926824767965274790"
     },
     "user_tz": -330
    },
    "id": "d4kn0V7PWFCq"
   },
   "outputs": [],
   "source": [
    "# ## adaptation of https://www.sciencedirect.com/science/article/pii/S0957417418302513#bib0050\n",
    "# #Normalise the data using z-score normalisation\n",
    "# train_data_normalised=(train_data-train_data.mean())/train_data.std()\n",
    "# #conv-1\n",
    "# inputs = tf.keras.Input(shape=(None,4000,400))\n",
    "# conv1 = tf.keras.layers.Conv1D(24, (5),strides=1, padding='same',input_shape=(None,4000,400))(inputs)\n",
    "# bn1=tf.keras.layers.BatchNormalization(axis=-1, momentum=0.99, epsilon=0.001, center=True, scale=True,beta_initializer='zeros', gamma_initializer='ones')(conv1)\n",
    "# rel1 = tf.keras.layers.Activation('relu')(bn1)\n",
    "\n",
    "# #conv-2\n",
    "# conv2 = tf.keras.layers.Conv1D(16, (3),strides=1, padding='same',input_shape=(None,24))(rel1)\n",
    "# bn2=tf.keras.layers.BatchNormalization(axis=-1, momentum=0.99, epsilon=0.001, center=True, scale=True,beta_initializer='zeros', gamma_initializer='ones')(conv2)\n",
    "# rel2 = tf.keras.layers.Activation('relu')(bn2)\n",
    "\n",
    "# #conv-3\n",
    "# conv3 = tf.keras.layers.Conv1D(8, (3),strides=1, padding='same',input_shape=(None,16))(rel2)\n",
    "# bn3=tf.keras.layers.BatchNormalization(axis=-1, momentum=0.99, epsilon=0.001, center=True, scale=True,beta_initializer='zeros', gamma_initializer='ones')(conv3)\n",
    "# rel3 = tf.keras.layers.Activation('relu')(bn3)\n",
    "\n",
    "# #FC-1\n",
    "# fc1=tf.keras.layers.Dense(20, activation='relu', use_bias=True)(rel3)\n",
    "\n",
    "# #dropout\n",
    "# do=tf.keras.layers.Dropout(rate=0.2)(fc1)\n",
    "\n",
    "# #FC-2\n",
    "# outputs = tf.keras.layers.Dense(2, activation=tf.nn.softmax)(do)\n",
    "# ##build the model\n",
    "# models = tf.keras.Model(inputs=inputs, outputs=outputs)\n",
    "\n",
    "# models.compile(optimizer=\"Adam\", loss=\"mse\", metrics=[\"mae\", \"acc\"])\n",
    "# models.fit(train_data_normalised,train_labels,100,100)\n"
   ]
  },
  {
   "cell_type": "code",
   "execution_count": 70,
   "metadata": {
    "executionInfo": {
     "elapsed": 1239,
     "status": "ok",
     "timestamp": 1615274358312,
     "user": {
      "displayName": "pooja prabhu",
      "photoUrl": "https://lh3.googleusercontent.com/a-/AOh14GjbvH44s1yMedrQ0YbmGDfMm7vohqQo8olSfLJvbA=s64",
      "userId": "12926824767965274790"
     },
     "user_tz": -330
    },
    "id": "tzHm10krkZdw"
   },
   "outputs": [],
   "source": [
    "## adaptation of https://www.sciencedirect.com/science/article/pii/S0957417418302513#bib0050\n",
    "#Normalise the data using z-score normalisation\n",
    "train_data_normalised=(train_data-train_data.mean())/train_data.std()\n",
    "train_data_normalised = train_data_normalised.reshape((-1, 1, 400))\n",
    "# train_data_normalised = train_data_normalised.reshape((1, 400, 4000))\n",
    "# train_data_normalised = train_data_normalised.reshape((-1, 400, 1))\n",
    "#conv-1\n",
    "inputs = tf.keras.Input(shape=(None,400))\n",
    "conv1 = tf.keras.layers.Conv1D(24, (5),strides=1, padding='same')(inputs)\n",
    "bn1=tf.keras.layers.BatchNormalization(axis=-1, momentum=0.99, epsilon=0.001, center=True, scale=True,beta_initializer='zeros', gamma_initializer='ones')(conv1)\n",
    "rel1 = tf.keras.layers.Activation('relu')(bn1)\n",
    "\n",
    "#conv-2\n",
    "conv2 = tf.keras.layers.Conv1D(16, (3),strides=1, padding='same')(rel1)\n",
    "bn2=tf.keras.layers.BatchNormalization(axis=-1, momentum=0.99, epsilon=0.001, center=True, scale=True,beta_initializer='zeros', gamma_initializer='ones')(conv2)\n",
    "rel2 = tf.keras.layers.Activation('relu')(bn2)\n",
    "\n",
    "#conv-3\n",
    "conv3 = tf.keras.layers.Conv1D(8, (3),strides=1, padding='same')(rel2)\n",
    "bn3=tf.keras.layers.BatchNormalization(axis=-1, momentum=0.99, epsilon=0.001, center=True, scale=True,beta_initializer='zeros', gamma_initializer='ones')(conv3)\n",
    "rel3 = tf.keras.layers.Activation('relu')(bn3)\n",
    "\n",
    "#FC-1\n",
    "fc1=tf.keras.layers.Dense(20, activation='relu', use_bias=True)(rel3)\n",
    "\n",
    "#dropout\n",
    "do=tf.keras.layers.Dropout(rate=0.1)(fc1)\n",
    "\n",
    "#FC-2\n",
    "outputs = tf.keras.layers.Dense(2, activation=tf.nn.softmax)(do)\n",
    "##build the model\n",
    "models = tf.keras.Model(inputs=inputs, outputs=outputs)\n"
   ]
  },
  {
   "cell_type": "code",
   "execution_count": 81,
   "metadata": {
    "colab": {
     "base_uri": "https://localhost:8080/"
    },
    "executionInfo": {
     "elapsed": 558378,
     "status": "ok",
     "timestamp": 1615275485988,
     "user": {
      "displayName": "pooja prabhu",
      "photoUrl": "https://lh3.googleusercontent.com/a-/AOh14GjbvH44s1yMedrQ0YbmGDfMm7vohqQo8olSfLJvbA=s64",
      "userId": "12926824767965274790"
     },
     "user_tz": -330
    },
    "id": "_0GaZ_yUk1tP",
    "outputId": "42077265-fd34-4a3a-9663-233f4997caf5"
   },
   "outputs": [
    {
     "name": "stdout",
     "output_type": "stream",
     "text": [
      "Epoch 1/100\n",
      "4000/4000 [==============================] - 6s 1ms/step - loss: 0.2500 - acc: 0.5869\n",
      "Epoch 2/100\n",
      "4000/4000 [==============================] - 6s 1ms/step - loss: 0.2500 - acc: 0.5911\n",
      "Epoch 3/100\n",
      "4000/4000 [==============================] - 6s 1ms/step - loss: 0.2500 - acc: 0.5919\n",
      "Epoch 4/100\n",
      "4000/4000 [==============================] - 6s 1ms/step - loss: 0.2500 - acc: 0.6002\n",
      "Epoch 5/100\n",
      "4000/4000 [==============================] - 6s 1ms/step - loss: 0.2500 - acc: 0.5945\n",
      "Epoch 6/100\n",
      "4000/4000 [==============================] - 6s 1ms/step - loss: 0.2500 - acc: 0.5914\n",
      "Epoch 7/100\n",
      "4000/4000 [==============================] - 6s 1ms/step - loss: 0.2500 - acc: 0.5870\n",
      "Epoch 8/100\n",
      "4000/4000 [==============================] - 6s 1ms/step - loss: 0.2500 - acc: 0.5963\n",
      "Epoch 9/100\n",
      "4000/4000 [==============================] - 6s 1ms/step - loss: 0.2500 - acc: 0.5947\n",
      "Epoch 10/100\n",
      "4000/4000 [==============================] - 6s 1ms/step - loss: 0.2500 - acc: 0.5994\n",
      "Epoch 11/100\n",
      "4000/4000 [==============================] - 6s 1ms/step - loss: 0.2500 - acc: 0.6019\n",
      "Epoch 12/100\n",
      "4000/4000 [==============================] - 6s 1ms/step - loss: 0.2500 - acc: 0.6050\n",
      "Epoch 13/100\n",
      "4000/4000 [==============================] - 6s 1ms/step - loss: 0.2500 - acc: 0.5928\n",
      "Epoch 14/100\n",
      "4000/4000 [==============================] - 6s 1ms/step - loss: 0.2500 - acc: 0.6049\n",
      "Epoch 15/100\n",
      "4000/4000 [==============================] - 6s 1ms/step - loss: 0.2500 - acc: 0.5892\n",
      "Epoch 16/100\n",
      "4000/4000 [==============================] - 5s 1ms/step - loss: 0.2500 - acc: 0.5804\n",
      "Epoch 17/100\n",
      "4000/4000 [==============================] - 6s 1ms/step - loss: 0.2500 - acc: 0.5797\n",
      "Epoch 18/100\n",
      "4000/4000 [==============================] - 6s 1ms/step - loss: 0.2500 - acc: 0.5807\n",
      "Epoch 19/100\n",
      "4000/4000 [==============================] - 5s 1ms/step - loss: 0.2500 - acc: 0.6111\n",
      "Epoch 20/100\n",
      "4000/4000 [==============================] - 5s 1ms/step - loss: 0.2500 - acc: 0.5945\n",
      "Epoch 21/100\n",
      "4000/4000 [==============================] - 6s 1ms/step - loss: 0.2500 - acc: 0.5802\n",
      "Epoch 22/100\n",
      "4000/4000 [==============================] - 6s 1ms/step - loss: 0.2500 - acc: 0.5958\n",
      "Epoch 23/100\n",
      "4000/4000 [==============================] - 6s 1ms/step - loss: 0.2500 - acc: 0.5847\n",
      "Epoch 24/100\n",
      "4000/4000 [==============================] - 6s 1ms/step - loss: 0.2500 - acc: 0.6028\n",
      "Epoch 25/100\n",
      "4000/4000 [==============================] - 6s 1ms/step - loss: 0.2500 - acc: 0.6102\n",
      "Epoch 26/100\n",
      "4000/4000 [==============================] - 6s 1ms/step - loss: 0.2500 - acc: 0.5913\n",
      "Epoch 27/100\n",
      "4000/4000 [==============================] - 6s 1ms/step - loss: 0.2500 - acc: 0.5894\n",
      "Epoch 28/100\n",
      "4000/4000 [==============================] - 6s 1ms/step - loss: 0.2500 - acc: 0.5993\n",
      "Epoch 29/100\n",
      "4000/4000 [==============================] - 6s 1ms/step - loss: 0.2500 - acc: 0.5950\n",
      "Epoch 30/100\n",
      "4000/4000 [==============================] - 6s 1ms/step - loss: 0.2500 - acc: 0.6060\n",
      "Epoch 31/100\n",
      "4000/4000 [==============================] - 6s 1ms/step - loss: 0.2500 - acc: 0.5906\n",
      "Epoch 32/100\n",
      "4000/4000 [==============================] - 5s 1ms/step - loss: 0.2500 - acc: 0.6052\n",
      "Epoch 33/100\n",
      "4000/4000 [==============================] - 6s 1ms/step - loss: 0.2500 - acc: 0.5898\n",
      "Epoch 34/100\n",
      "4000/4000 [==============================] - 6s 1ms/step - loss: 0.2500 - acc: 0.5817\n",
      "Epoch 35/100\n",
      "4000/4000 [==============================] - 5s 1ms/step - loss: 0.2500 - acc: 0.5960\n",
      "Epoch 36/100\n",
      "4000/4000 [==============================] - 5s 1ms/step - loss: 0.2500 - acc: 0.6015\n",
      "Epoch 37/100\n",
      "4000/4000 [==============================] - 6s 1ms/step - loss: 0.2500 - acc: 0.5986\n",
      "Epoch 38/100\n",
      "4000/4000 [==============================] - 5s 1ms/step - loss: 0.2500 - acc: 0.6008\n",
      "Epoch 39/100\n",
      "4000/4000 [==============================] - 5s 1ms/step - loss: 0.2500 - acc: 0.5893\n",
      "Epoch 40/100\n",
      "4000/4000 [==============================] - 5s 1ms/step - loss: 0.2500 - acc: 0.5991\n",
      "Epoch 41/100\n",
      "4000/4000 [==============================] - 5s 1ms/step - loss: 0.2500 - acc: 0.6037\n",
      "Epoch 42/100\n",
      "4000/4000 [==============================] - 6s 1ms/step - loss: 0.2500 - acc: 0.5955\n",
      "Epoch 43/100\n",
      "4000/4000 [==============================] - 6s 1ms/step - loss: 0.2500 - acc: 0.6097\n",
      "Epoch 44/100\n",
      "4000/4000 [==============================] - 6s 1ms/step - loss: 0.2500 - acc: 0.6008\n",
      "Epoch 45/100\n",
      "4000/4000 [==============================] - 6s 1ms/step - loss: 0.2500 - acc: 0.5920\n",
      "Epoch 46/100\n",
      "4000/4000 [==============================] - 6s 1ms/step - loss: 0.2500 - acc: 0.6036\n",
      "Epoch 47/100\n",
      "4000/4000 [==============================] - 6s 1ms/step - loss: 0.2500 - acc: 0.5892\n",
      "Epoch 48/100\n",
      "4000/4000 [==============================] - 6s 1ms/step - loss: 0.2500 - acc: 0.5885\n",
      "Epoch 49/100\n",
      "4000/4000 [==============================] - 6s 1ms/step - loss: 0.2500 - acc: 0.6006\n",
      "Epoch 50/100\n",
      "4000/4000 [==============================] - 6s 1ms/step - loss: 0.2500 - acc: 0.5856\n",
      "Epoch 51/100\n",
      "4000/4000 [==============================] - 6s 1ms/step - loss: 0.2500 - acc: 0.5902\n",
      "Epoch 52/100\n",
      "4000/4000 [==============================] - 6s 1ms/step - loss: 0.2500 - acc: 0.5891\n",
      "Epoch 53/100\n",
      "4000/4000 [==============================] - 6s 1ms/step - loss: 0.2500 - acc: 0.6008\n",
      "Epoch 54/100\n",
      "4000/4000 [==============================] - 6s 1ms/step - loss: 0.2500 - acc: 0.5975\n",
      "Epoch 55/100\n",
      "4000/4000 [==============================] - 6s 1ms/step - loss: 0.2500 - acc: 0.5979\n",
      "Epoch 56/100\n",
      "4000/4000 [==============================] - 6s 1ms/step - loss: 0.2500 - acc: 0.5971\n",
      "Epoch 57/100\n",
      "4000/4000 [==============================] - 6s 1ms/step - loss: 0.2500 - acc: 0.6083\n",
      "Epoch 58/100\n",
      "4000/4000 [==============================] - 6s 1ms/step - loss: 0.2500 - acc: 0.5852\n",
      "Epoch 59/100\n",
      "4000/4000 [==============================] - 6s 1ms/step - loss: 0.2500 - acc: 0.5891\n",
      "Epoch 60/100\n",
      "4000/4000 [==============================] - 6s 1ms/step - loss: 0.2500 - acc: 0.5958\n",
      "Epoch 61/100\n",
      "4000/4000 [==============================] - 6s 1ms/step - loss: 0.2500 - acc: 0.5796\n",
      "Epoch 62/100\n",
      "4000/4000 [==============================] - 6s 1ms/step - loss: 0.2500 - acc: 0.5983\n",
      "Epoch 63/100\n",
      "4000/4000 [==============================] - 6s 1ms/step - loss: 0.2500 - acc: 0.5960\n",
      "Epoch 64/100\n",
      "4000/4000 [==============================] - 6s 1ms/step - loss: 0.2500 - acc: 0.6099\n",
      "Epoch 65/100\n",
      "4000/4000 [==============================] - 6s 1ms/step - loss: 0.2500 - acc: 0.5826\n",
      "Epoch 66/100\n",
      "4000/4000 [==============================] - 6s 1ms/step - loss: 0.2500 - acc: 0.5990\n",
      "Epoch 67/100\n",
      "4000/4000 [==============================] - 6s 1ms/step - loss: 0.2500 - acc: 0.5958\n",
      "Epoch 68/100\n",
      "4000/4000 [==============================] - 6s 1ms/step - loss: 0.2500 - acc: 0.5879\n",
      "Epoch 69/100\n",
      "4000/4000 [==============================] - 6s 1ms/step - loss: 0.2500 - acc: 0.5906\n",
      "Epoch 70/100\n",
      "4000/4000 [==============================] - 6s 1ms/step - loss: 0.2500 - acc: 0.5936\n",
      "Epoch 71/100\n",
      "4000/4000 [==============================] - 6s 1ms/step - loss: 0.2500 - acc: 0.5923\n",
      "Epoch 72/100\n",
      "4000/4000 [==============================] - 6s 1ms/step - loss: 0.2500 - acc: 0.5816\n",
      "Epoch 73/100\n",
      "4000/4000 [==============================] - 6s 1ms/step - loss: 0.2500 - acc: 0.5848\n",
      "Epoch 74/100\n",
      "4000/4000 [==============================] - 6s 1ms/step - loss: 0.2500 - acc: 0.5868\n",
      "Epoch 75/100\n",
      "4000/4000 [==============================] - 6s 1ms/step - loss: 0.2500 - acc: 0.5972\n",
      "Epoch 76/100\n",
      "4000/4000 [==============================] - 5s 1ms/step - loss: 0.2500 - acc: 0.5998\n",
      "Epoch 77/100\n",
      "4000/4000 [==============================] - 6s 1ms/step - loss: 0.2500 - acc: 0.6057\n",
      "Epoch 78/100\n",
      "4000/4000 [==============================] - 6s 1ms/step - loss: 0.2500 - acc: 0.5880\n",
      "Epoch 79/100\n",
      "4000/4000 [==============================] - 6s 1ms/step - loss: 0.2500 - acc: 0.5883\n",
      "Epoch 80/100\n",
      "4000/4000 [==============================] - 5s 1ms/step - loss: 0.2500 - acc: 0.5960\n",
      "Epoch 81/100\n",
      "4000/4000 [==============================] - 6s 1ms/step - loss: 0.2500 - acc: 0.5935\n",
      "Epoch 82/100\n",
      "4000/4000 [==============================] - 6s 1ms/step - loss: 0.2500 - acc: 0.6017\n",
      "Epoch 83/100\n",
      "4000/4000 [==============================] - 6s 1ms/step - loss: 0.2500 - acc: 0.5983\n",
      "Epoch 84/100\n",
      "4000/4000 [==============================] - 6s 1ms/step - loss: 0.2500 - acc: 0.5864\n",
      "Epoch 85/100\n",
      "4000/4000 [==============================] - 6s 1ms/step - loss: 0.2500 - acc: 0.6022\n",
      "Epoch 86/100\n",
      "4000/4000 [==============================] - 6s 1ms/step - loss: 0.2500 - acc: 0.5852\n",
      "Epoch 87/100\n",
      "4000/4000 [==============================] - 6s 1ms/step - loss: 0.2500 - acc: 0.6079\n",
      "Epoch 88/100\n",
      "4000/4000 [==============================] - 6s 1ms/step - loss: 0.2500 - acc: 0.5943\n",
      "Epoch 89/100\n",
      "4000/4000 [==============================] - 6s 1ms/step - loss: 0.2500 - acc: 0.6022\n",
      "Epoch 90/100\n",
      "4000/4000 [==============================] - 6s 1ms/step - loss: 0.2500 - acc: 0.6077\n",
      "Epoch 91/100\n",
      "4000/4000 [==============================] - 6s 1ms/step - loss: 0.2500 - acc: 0.5917\n",
      "Epoch 92/100\n",
      "4000/4000 [==============================] - 6s 1ms/step - loss: 0.2500 - acc: 0.6032\n",
      "Epoch 93/100\n",
      "4000/4000 [==============================] - 5s 1ms/step - loss: 0.2500 - acc: 0.5958\n",
      "Epoch 94/100\n",
      "4000/4000 [==============================] - 5s 1ms/step - loss: 0.2500 - acc: 0.5905\n",
      "Epoch 95/100\n",
      "4000/4000 [==============================] - 6s 1ms/step - loss: 0.2500 - acc: 0.6025\n",
      "Epoch 96/100\n",
      "4000/4000 [==============================] - 6s 1ms/step - loss: 0.2500 - acc: 0.5968\n",
      "Epoch 97/100\n",
      "4000/4000 [==============================] - 6s 1ms/step - loss: 0.2500 - acc: 0.5933\n",
      "Epoch 98/100\n",
      "4000/4000 [==============================] - 6s 1ms/step - loss: 0.2500 - acc: 0.6020\n",
      "Epoch 99/100\n",
      "4000/4000 [==============================] - 6s 1ms/step - loss: 0.2500 - acc: 0.5909\n",
      "Epoch 100/100\n",
      "4000/4000 [==============================] - 6s 1ms/step - loss: 0.2500 - acc: 0.5989\n"
     ]
    },
    {
     "data": {
      "text/plain": [
       "<tensorflow.python.keras.callbacks.History at 0x7f944042c710>"
      ]
     },
     "execution_count": 81,
     "metadata": {
      "tags": []
     },
     "output_type": "execute_result"
    }
   ],
   "source": [
    "models.compile(optimizer=\"sgd\", loss=\"mse\", metrics=[ \"acc\"])\n",
    "models.fit(train_data_normalised,train_labels,1,epochs=100)"
   ]
  },
  {
   "cell_type": "code",
   "execution_count": 82,
   "metadata": {
    "colab": {
     "base_uri": "https://localhost:8080/"
    },
    "executionInfo": {
     "elapsed": 2247,
     "status": "ok",
     "timestamp": 1615275577316,
     "user": {
      "displayName": "pooja prabhu",
      "photoUrl": "https://lh3.googleusercontent.com/a-/AOh14GjbvH44s1yMedrQ0YbmGDfMm7vohqQo8olSfLJvbA=s64",
      "userId": "12926824767965274790"
     },
     "user_tz": -330
    },
    "id": "DNZ_Ks3fpoNB",
    "outputId": "10406c37-4257-421c-be77-4da789b144f6"
   },
   "outputs": [
    {
     "name": "stdout",
     "output_type": "stream",
     "text": [
      "999/999 [==============================] - 1s 950us/step - loss: 0.4942 - acc: 0.4014\n"
     ]
    },
    {
     "data": {
      "text/plain": [
       "[0.4942488372325897, 0.4014014005661011]"
      ]
     },
     "execution_count": 82,
     "metadata": {
      "tags": []
     },
     "output_type": "execute_result"
    }
   ],
   "source": [
    "test_data_1 = test_data.reshape((-1, 1, 400))\n",
    "models.evaluate(test_data_1, test_labels,1)"
   ]
  },
  {
   "cell_type": "code",
   "execution_count": 86,
   "metadata": {
    "colab": {
     "base_uri": "https://localhost:8080/"
    },
    "executionInfo": {
     "elapsed": 1028,
     "status": "ok",
     "timestamp": 1615275664758,
     "user": {
      "displayName": "pooja prabhu",
      "photoUrl": "https://lh3.googleusercontent.com/a-/AOh14GjbvH44s1yMedrQ0YbmGDfMm7vohqQo8olSfLJvbA=s64",
      "userId": "12926824767965274790"
     },
     "user_tz": -330
    },
    "id": "bThtuzKO7WBc",
    "outputId": "2a15d423-93a4-4820-a080-bd0cedad0abc"
   },
   "outputs": [
    {
     "data": {
      "text/plain": [
       "array([[[6.6366893e-01, 3.3633104e-01]],\n",
       "\n",
       "       [[1.0000000e+00, 1.3224137e-12]],\n",
       "\n",
       "       [[1.0000000e+00, 7.6489749e-17]],\n",
       "\n",
       "       ...,\n",
       "\n",
       "       [[1.0000000e+00, 5.3110923e-27]],\n",
       "\n",
       "       [[0.0000000e+00, 1.0000000e+00]],\n",
       "\n",
       "       [[1.0000000e+00, 0.0000000e+00]]], dtype=float32)"
      ]
     },
     "execution_count": 86,
     "metadata": {
      "tags": []
     },
     "output_type": "execute_result"
    }
   ],
   "source": [
    "classify=models.predict(test_data_1)\n",
    "classify"
   ]
  },
  {
   "cell_type": "code",
   "execution_count": null,
   "metadata": {
    "id": "XDpNrmRrX_Kh"
   },
   "outputs": [],
   "source": [
    "# model = Sequential()\n",
    "# model.add(tf.keras.layers.Conv1D( 24, 5,strides=1, padding='same',input_shape=(None,4000,400)))\n",
    "# model.add(tf.keras.layers.BatchNormalization(axis=-1, momentum=0.99, epsilon=0.001, center=True, scale=True,beta_initializer='zeros', gamma_initializer='ones'))\n",
    "# model.add(Activation('relu'))\n",
    "\n",
    "# model.add(tf.keras.layers.Conv1D(16, 3,strides=1, padding='same',input_shape=(None,24)))\n",
    "# model.add(tf.keras.layers.BatchNormalization(axis=-1, momentum=0.99, epsilon=0.001, center=True, scale=True,beta_initializer='zeros', gamma_initializer='ones'))\n",
    "# model.add(tf.keras.layers.Activation('relu'))\n",
    "\n",
    "# model.add(tf.keras.layers.Conv1D(8,3,strides=1, padding='same',input_shape=(None,16)))\n",
    "# model.add(tf.keras.layers.BatchNormalization(axis=-1, momentum=0.99, epsilon=0.001, center=True, scale=True,beta_initializer='zeros', gamma_initializer='ones'))\n",
    "# model.add(tf.keras.layers.Activation('relu'))\n",
    "\n",
    "# model.add(tf.keras.layers.Dense(20, activation='relu', use_bias=True))\n",
    "\n",
    "# model.add(tf.keras.layers.Dropout(rate=0.2))\n",
    "\n",
    "# model.add(tf.keras.layers.Dense(2, activation=tf.nn.softmax))\n",
    "\n",
    "# model.compile(optimizer=\"Adam\", loss=\"mse\", metrics=[\"mae\", \"acc\"])\n",
    "# model.fit(train_data_normalised,train_labels,100,100)\n"
   ]
  },
  {
   "cell_type": "code",
   "execution_count": 47,
   "metadata": {
    "executionInfo": {
     "elapsed": 1001,
     "status": "ok",
     "timestamp": 1615268282825,
     "user": {
      "displayName": "pooja prabhu",
      "photoUrl": "https://lh3.googleusercontent.com/a-/AOh14GjbvH44s1yMedrQ0YbmGDfMm7vohqQo8olSfLJvbA=s64",
      "userId": "12926824767965274790"
     },
     "user_tz": -330
    },
    "id": "x4rLkOnBT5_u"
   },
   "outputs": [],
   "source": [
    "#dd=tf.data.Dataset.from_tensor_slices((train_data_normalised,train_labels))\n"
   ]
  },
  {
   "cell_type": "code",
   "execution_count": null,
   "metadata": {
    "id": "ul90XIrMeqsr"
   },
   "outputs": [],
   "source": [
    "# x = tf.keras.layers.Dense(4, activation=tf.nn.relu)(inputs)\n",
    "# outputs = tf.keras.layers.Dense(5, activation=tf.nn.softmax)(x)\n",
    "# model = tf.keras.Model(inputs=inputs, outputs=outputs)\n",
    "\n",
    "# input_shape = (4, 10, 128)\n",
    "# x = tf.random.normal(input_shape)\n",
    "# y = tf.keras.layers.Conv1D(\n",
    "# 32, 3, activation='relu',input_shape=input_shape[1:])(x)\n",
    "\n",
    "\n",
    "# inputs = tf.keras.Input(shape=(4000,400))\n",
    "# conv1 = tf.keras.layers.Conv1D(24, 5,strides=1, padding='same',input_shape=(4000,400))(inputs)\n",
    "# bn1=tf.keras.layers.BatchNormalization(axis=-1, momentum=0.99, epsilon=0.001, center=True, scale=True,beta_initializer='zeros', gamma_initializer='ones')(conv1)\n",
    "# rel1 = tf.keras.layers.Activation('relu')(bn1)\n",
    "\n",
    "\n"
   ]
  },
  {
   "cell_type": "code",
   "execution_count": null,
   "metadata": {
    "id": "M0ikowxMhIZ3"
   },
   "outputs": [],
   "source": [
    "# ##old model using the relu\n",
    "# model=Sequential()\n",
    "# model.add(Conv2D(32, (3,3), activation='relu'))\n",
    "# model.add(Conv2D(32, (3,3), activation='relu'))\n",
    "# model.add(BatchNormalization())\n",
    "\n",
    "# model.add(BatchNormalization(input_shape=(2,)))\n",
    "\n",
    "# model.add(Dense(256,input_shape=(400,)))\n",
    "# model.add(Activation('relu'))\n",
    "# model.add(Dense(128))\n",
    "# model.add(Activation('relu'))\n",
    "# model.add(Dense(128))\n",
    "# model.add(Activation('relu'))\n",
    "# model.add(Dense(64))\n",
    "# model.add(Activation('relu'))\n",
    "# model.add(Dense(32))\n",
    "# model.add(Activation('relu'))\n",
    "# model.add(Dense(32))\n",
    "# model.add(Activation('relu'))\n",
    "# model.add(Dense(32))\n",
    "# model.add(Activation('relu'))\n",
    "# model.add(Dense(16))\n",
    "# model.add(Activation('relu'))\n",
    "# model.add(Dense(16))\n",
    "# model.add(Activation('relu'))\n",
    "# model.add(Dense(8))\n",
    "# model.add(Activation('relu'))\n",
    "# model.add(Dense(2))\n",
    "# model.add(Activation('softmax'))\n",
    "# model.summary()\n",
    "\n",
    "# model.compile(optimizer=\"Adam\", loss=\"mse\", metrics=[\"mae\", \"acc\"])\n",
    "# model.fit(train_data,train_labels,10,10)"
   ]
  },
  {
   "cell_type": "code",
   "execution_count": null,
   "metadata": {
    "id": "XbHNMNPWlUrC"
   },
   "outputs": [],
   "source": [
    "# opt = tf.keras.optimizers.SGD(learning_rate=0.1, momentum=0.9)\n",
    "# var = tf.Variable(1.0)\n",
    "# val0 = var.value()\n",
    "# loss = lambda: (var ** 2)/2.0         # d(loss)/d(var1) = var1\n",
    "# # First step is `- learning_rate * grad`\n",
    "# step_count = opt.minimize(loss, [var]).numpy()\n",
    "# val1 = var.value()\n",
    "# (val0 - val1).numpy()\n",
    "\n",
    "# # On later steps, step-size increases because of momentum\n",
    "# step_count = opt.minimize(loss, [var]).numpy()\n",
    "# val2 = var.value()\n",
    "# (val1 - val2).numpy()\n",
    "\n"
   ]
  }
 ],
 "metadata": {
  "colab": {
   "authorship_tag": "ABX9TyOVEUXKwOB7pEZn74ipn1Gw",
   "name": "binary_classification.ipynb",
   "provenance": []
  },
  "kernelspec": {
   "display_name": "Python 3",
   "language": "python",
   "name": "python3"
  },
  "language_info": {
   "codemirror_mode": {
    "name": "ipython",
    "version": 3
   },
   "file_extension": ".py",
   "mimetype": "text/x-python",
   "name": "python",
   "nbconvert_exporter": "python",
   "pygments_lexer": "ipython3",
   "version": "3.8.5"
  }
 },
 "nbformat": 4,
 "nbformat_minor": 1
}
