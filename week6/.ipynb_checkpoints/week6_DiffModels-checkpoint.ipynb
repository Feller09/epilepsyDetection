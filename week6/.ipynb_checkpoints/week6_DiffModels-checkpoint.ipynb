{
 "cells": [
  {
   "cell_type": "code",
   "execution_count": 1,
   "id": "standing-alabama",
   "metadata": {},
   "outputs": [],
   "source": [
    "import tensorflow as tf \n",
    "import numpy as np \n",
    "from numpy import random\n",
    "from keras.models import Sequential \n",
    "from keras.utils import np_utils \n",
    "from keras.layers import Dense,Activation,LSTM,Dropout,AveragePooling3D \n",
    "import pandas as pd \n",
    "import matplotlib.pyplot as plt \n",
    "from tensorflow import keras\n",
    "import os\n",
    "import glob\n"
   ]
  },
  {
   "cell_type": "code",
   "execution_count": 2,
   "id": "numerous-activity",
   "metadata": {},
   "outputs": [
    {
     "name": "stdout",
     "output_type": "stream",
     "text": [
      "     Unnamed: 0    0    1    2    3    4    5    6   7    8  ...  4087  4088  \\\n",
      "0             0  -33  -55  -78  -81  -69  -48  -31 -13   -4  ...   -47   -45   \n",
      "1             1   88   77   69   56   45   35   21  -8  -33  ...   -69   -32   \n",
      "2             2    8    9   10   11    8    3    0  -1   -4  ...   -29   -30   \n",
      "3             3   -7  -12  -14  -21  -31  -42  -48 -47  -53  ...   -10   -10   \n",
      "4             4 -142 -142 -133 -126 -123 -112 -100 -91  -93  ...  -148  -150   \n",
      "..          ...  ...  ...  ...  ...  ...  ...  ...  ..  ...  ...   ...   ...   \n",
      "495         495  -13   -4    2   21   25   26   11   6    4  ...   -37   -14   \n",
      "496         496 -133 -144 -113  -74  -41  -41  -61 -89 -107  ...   -88   -81   \n",
      "497         497  -20  -12   -6    6    8   -2  -22 -39  -39  ...     1     7   \n",
      "498         498   14   25   31   36   33   33   27  27   21  ...    -6    -7   \n",
      "499         499   18   34   45   37   35   34   38  38   43  ...  -110   -88   \n",
      "\n",
      "     4089  4090  4091  4092  4093  4094  4095  4096  \n",
      "0     -42   -22    -6     6    13    10    13   -57  \n",
      "1      24    82   133   176   190   176   146   -35  \n",
      "2     -44   -56   -60   -57   -54   -43   -46    -9  \n",
      "3      -9    -4     6     6     7    -1   -10   -35  \n",
      "4    -161  -172  -183  -192  -201  -200  -202  -153  \n",
      "..    ...   ...   ...   ...   ...   ...   ...   ...  \n",
      "495     4    39    70    75    81    74    61    -5  \n",
      "496   -70   -58   -62   -71   -79   -83   -87  -104  \n",
      "497    20    19    11    10    12     9     2   -14  \n",
      "498    -2   -20   -34   -40   -40   -26   -28    21  \n",
      "499   -81   -85   -82   -73   -58   -57   -53    83  \n",
      "\n",
      "[500 rows x 4098 columns]\n"
     ]
    }
   ],
   "source": [
    "df=pd.read_csv('data3.csv')\n",
    "df.head()\n",
    "print(df)"
   ]
  },
  {
   "cell_type": "code",
   "execution_count": 3,
   "id": "little-target",
   "metadata": {},
   "outputs": [
    {
     "name": "stdout",
     "output_type": "stream",
     "text": [
      "     Unnamed: 0    0    1    2    3    4    5    6   7    8  ...  4088  4089  \\\n",
      "0             0  -33  -55  -78  -81  -69  -48  -31 -13   -4  ...   -45   -42   \n",
      "1             1   88   77   69   56   45   35   21  -8  -33  ...   -32    24   \n",
      "2             2    8    9   10   11    8    3    0  -1   -4  ...   -30   -44   \n",
      "3             3   -7  -12  -14  -21  -31  -42  -48 -47  -53  ...   -10    -9   \n",
      "4             4 -142 -142 -133 -126 -123 -112 -100 -91  -93  ...  -150  -161   \n",
      "..          ...  ...  ...  ...  ...  ...  ...  ...  ..  ...  ...   ...   ...   \n",
      "495         495  -13   -4    2   21   25   26   11   6    4  ...   -14     4   \n",
      "496         496 -133 -144 -113  -74  -41  -41  -61 -89 -107  ...   -81   -70   \n",
      "497         497  -20  -12   -6    6    8   -2  -22 -39  -39  ...     7    20   \n",
      "498         498   14   25   31   36   33   33   27  27   21  ...    -7    -2   \n",
      "499         499   18   34   45   37   35   34   38  38   43  ...   -88   -81   \n",
      "\n",
      "     4090  4091  4092  4093  4094  4095  4096  y  \n",
      "0     -22    -6     6    13    10    13   -57  1  \n",
      "1      82   133   176   190   176   146   -35  1  \n",
      "2     -56   -60   -57   -54   -43   -46    -9  1  \n",
      "3      -4     6     6     7    -1   -10   -35  1  \n",
      "4    -172  -183  -192  -201  -200  -202  -153  1  \n",
      "..    ...   ...   ...   ...   ...   ...   ... ..  \n",
      "495    39    70    75    81    74    61    -5  0  \n",
      "496   -58   -62   -71   -79   -83   -87  -104  0  \n",
      "497    19    11    10    12     9     2   -14  0  \n",
      "498   -20   -34   -40   -40   -26   -28    21  0  \n",
      "499   -85   -82   -73   -58   -57   -53    83  0  \n",
      "\n",
      "[500 rows x 4099 columns]\n"
     ]
    }
   ],
   "source": [
    "df = pd.read_csv('data3.csv')\n",
    "df['y']=1 ## mmake all 1's then make normal subjects data to be 0's\n",
    "df['y'][200:300]=0 ## O set--normal subjects\n",
    "df['y'][400:500]=0  ## Z set--normal subjects\n",
    "df.head()\n",
    "print(df)\n",
    "\n",
    "x=df.values\n",
    "x_signals=x[:,1:(x.shape[1]-2)]\n",
    "x_signals = np.asarray(x_signals).astype(np.float32)"
   ]
  },
  {
   "cell_type": "code",
   "execution_count": 4,
   "id": "institutional-confusion",
   "metadata": {},
   "outputs": [],
   "source": [
    "n_sample_points=400 #for every 2.3s segment the data\n",
    "n_seg=x_signals.shape[1]/n_sample_points\n",
    "data_seg_list=[]\n",
    "data_seg_label_list=[]\n",
    "for sig in range(x_signals.shape[0]):\n",
    "  individual_signal=x_signals[sig,:]\n",
    "  label=df['y'][sig]\n",
    "  for seg in range(0,int(n_seg)):\n",
    "    data_segmented=individual_signal[(seg*n_sample_points):((seg+1)*n_sample_points)]\n",
    "    data_seg_list.append(data_segmented)\n",
    "    data_seg_label_list.append(label)"
   ]
  },
  {
   "cell_type": "code",
   "execution_count": 5,
   "id": "designing-revolution",
   "metadata": {},
   "outputs": [],
   "source": [
    "data_seg=np.asarray(data_seg_list)\n",
    "data_seg_label_=np.asarray(data_seg_label_list)\n",
    "data_seg_label=np.empty((data_seg_label_.shape[0],1))\n",
    "data_seg_label[:,0]=data_seg_label_\n",
    "\n",
    "\n",
    "indices=np.arange(0,data_seg.shape[0])\n",
    "\n",
    "shuffle_indices=random.permutation(indices)"
   ]
  },
  {
   "cell_type": "code",
   "execution_count": 6,
   "id": "occasional-hayes",
   "metadata": {},
   "outputs": [],
   "source": [
    "###spilitting train and test by ratio 80:20\n",
    "train_ratio=0.8\n",
    "split_indices=data_seg.shape[0]*0.8"
   ]
  },
  {
   "cell_type": "code",
   "execution_count": 7,
   "id": "alleged-minority",
   "metadata": {},
   "outputs": [],
   "source": [
    "train_data=data_seg[shuffle_indices[0:int(split_indices)],:]\n",
    "train_labels=data_seg_label[shuffle_indices[0:int(split_indices)],:]\n",
    "test_data=data_seg[shuffle_indices[(int(split_indices)):-1],:]\n",
    "test_labels=data_seg_label[shuffle_indices[(int(split_indices)):-1],:]"
   ]
  },
  {
   "cell_type": "code",
   "execution_count": 8,
   "id": "stainless-trash",
   "metadata": {},
   "outputs": [],
   "source": [
    "## adaptation of https://www.sciencedirect.com/science/article/pii/S0957417418302513#bib0050\n",
    "#Normalise the data using z-score normalisation\n",
    "train_data_normalised=(train_data-train_data.mean())/train_data.std()\n",
    "train_data_normalised = train_data_normalised.reshape((-1, 1, 400))\n",
    "# train_data_normalised = train_data_normalised.reshape((1, 400, 4000))\n",
    "# train_data_normalised = train_data_normalised.reshape((-1, 400, 1))\n",
    "#conv-1\n",
    "inputs = tf.keras.Input(shape=(None,400))\n",
    "conv1 = tf.keras.layers.Conv1D(24, (5),strides=1, padding='same')(inputs)\n",
    "bn1=tf.keras.layers.BatchNormalization(axis=-1, momentum=0.99, epsilon=0.001, center=True, scale=True,beta_initializer='zeros', gamma_initializer='ones')(conv1)\n",
    "rel1 = tf.keras.layers.Activation('relu')(bn1)\n",
    "\n",
    "#conv-2\n",
    "conv2 = tf.keras.layers.Conv1D(16, (3),strides=1, padding='same')(rel1)\n",
    "bn2=tf.keras.layers.BatchNormalization(axis=-1, momentum=0.99, epsilon=0.001, center=True, scale=True,beta_initializer='zeros', gamma_initializer='ones')(conv2)\n",
    "rel2 = tf.keras.layers.Activation('relu')(bn2)\n",
    "\n",
    "#conv-3\n",
    "conv3 = tf.keras.layers.Conv1D(8, (3),strides=1, padding='same')(rel2)\n",
    "bn3=tf.keras.layers.BatchNormalization(axis=-1, momentum=0.99, epsilon=0.001, center=True, scale=True,beta_initializer='zeros', gamma_initializer='ones')(conv3)\n",
    "rel3 = tf.keras.layers.Activation('relu')(bn3)\n",
    "\n",
    "#FC-1\n",
    "fc1=tf.keras.layers.Dense(20, activation='relu', use_bias=True)(rel3)\n",
    "\n",
    "#dropout\n",
    "do=tf.keras.layers.Dropout(rate=0.1)(fc1)\n",
    "\n",
    "#FC-2\n",
    "outputs = tf.keras.layers.Dense(2, activation=tf.nn.softmax)(do)\n",
    "##build the model\n",
    "models = tf.keras.Model(inputs=inputs, outputs=outputs)"
   ]
  },
  {
   "cell_type": "code",
   "execution_count": 11,
   "id": "worthy-producer",
   "metadata": {},
   "outputs": [
    {
     "name": "stdout",
     "output_type": "stream",
     "text": [
      "Epoch 1/50\n",
      "4000/4000 [==============================] - 4s 793us/step - loss: 0.6931 - acc: 0.4020\n",
      "Epoch 2/50\n",
      "4000/4000 [==============================] - 3s 791us/step - loss: 0.6931 - acc: 0.4007\n",
      "Epoch 3/50\n",
      "4000/4000 [==============================] - 3s 780us/step - loss: 0.6931 - acc: 0.3900\n",
      "Epoch 4/50\n",
      "4000/4000 [==============================] - 3s 795us/step - loss: 0.6931 - acc: 0.4076\n",
      "Epoch 5/50\n",
      "4000/4000 [==============================] - 3s 795us/step - loss: 0.6931 - acc: 0.4118\n",
      "Epoch 6/50\n",
      "4000/4000 [==============================] - 3s 791us/step - loss: 0.6931 - acc: 0.3971\n",
      "Epoch 7/50\n",
      "4000/4000 [==============================] - 3s 787us/step - loss: 0.6931 - acc: 0.3978\n",
      "Epoch 8/50\n",
      "4000/4000 [==============================] - 3s 782us/step - loss: 0.6931 - acc: 0.3903\n",
      "Epoch 9/50\n",
      "4000/4000 [==============================] - 3s 810us/step - loss: 0.6931 - acc: 0.4024\n",
      "Epoch 10/50\n",
      "4000/4000 [==============================] - 3s 794us/step - loss: 0.6931 - acc: 0.4028\n",
      "Epoch 11/50\n",
      "4000/4000 [==============================] - 3s 802us/step - loss: 0.6931 - acc: 0.4073\n",
      "Epoch 12/50\n",
      "4000/4000 [==============================] - 3s 810us/step - loss: 0.6931 - acc: 0.4064\n",
      "Epoch 13/50\n",
      "4000/4000 [==============================] - 3s 776us/step - loss: 0.6931 - acc: 0.4141\n",
      "Epoch 14/50\n",
      "4000/4000 [==============================] - 3s 781us/step - loss: 0.6931 - acc: 0.3844\n",
      "Epoch 15/50\n",
      "4000/4000 [==============================] - 3s 794us/step - loss: 0.6931 - acc: 0.4072\n",
      "Epoch 16/50\n",
      "4000/4000 [==============================] - 3s 810us/step - loss: 0.6931 - acc: 0.4094\n",
      "Epoch 17/50\n",
      "4000/4000 [==============================] - 3s 793us/step - loss: 0.6931 - acc: 0.4008\n",
      "Epoch 18/50\n",
      "4000/4000 [==============================] - 3s 791us/step - loss: 0.6931 - acc: 0.4031\n",
      "Epoch 19/50\n",
      "4000/4000 [==============================] - 3s 798us/step - loss: 0.6931 - acc: 0.3909\n",
      "Epoch 20/50\n",
      "4000/4000 [==============================] - 3s 794us/step - loss: 0.6931 - acc: 0.3864\n",
      "Epoch 21/50\n",
      "4000/4000 [==============================] - 3s 784us/step - loss: 0.6931 - acc: 0.4097\n",
      "Epoch 22/50\n",
      "4000/4000 [==============================] - 3s 794us/step - loss: 0.6931 - acc: 0.4037\n",
      "Epoch 23/50\n",
      "4000/4000 [==============================] - 3s 786us/step - loss: 0.6931 - acc: 0.4121\n",
      "Epoch 24/50\n",
      "4000/4000 [==============================] - 3s 790us/step - loss: 0.6931 - acc: 0.4021\n",
      "Epoch 25/50\n",
      "4000/4000 [==============================] - 3s 787us/step - loss: 0.6931 - acc: 0.4139\n",
      "Epoch 26/50\n",
      "4000/4000 [==============================] - 3s 795us/step - loss: 0.6931 - acc: 0.4051\n",
      "Epoch 27/50\n",
      "4000/4000 [==============================] - 3s 810us/step - loss: 0.6931 - acc: 0.4083\n",
      "Epoch 28/50\n",
      "4000/4000 [==============================] - 3s 805us/step - loss: 0.6931 - acc: 0.4076\n",
      "Epoch 29/50\n",
      "4000/4000 [==============================] - 3s 801us/step - loss: 0.6931 - acc: 0.4097\n",
      "Epoch 30/50\n",
      "4000/4000 [==============================] - 3s 811us/step - loss: 0.6931 - acc: 0.4067\n",
      "Epoch 31/50\n",
      "4000/4000 [==============================] - 3s 811us/step - loss: 0.6931 - acc: 0.4236\n",
      "Epoch 32/50\n",
      "4000/4000 [==============================] - 3s 791us/step - loss: 0.6931 - acc: 0.4026\n",
      "Epoch 33/50\n",
      "4000/4000 [==============================] - 3s 782us/step - loss: 0.6931 - acc: 0.4010\n",
      "Epoch 34/50\n",
      "4000/4000 [==============================] - 3s 782us/step - loss: 0.6931 - acc: 0.4101\n",
      "Epoch 35/50\n",
      "4000/4000 [==============================] - 3s 788us/step - loss: 0.6931 - acc: 0.3979\n",
      "Epoch 36/50\n",
      "4000/4000 [==============================] - 3s 787us/step - loss: 0.6931 - acc: 0.3932\n",
      "Epoch 37/50\n",
      "4000/4000 [==============================] - 3s 769us/step - loss: 0.6931 - acc: 0.4083\n",
      "Epoch 38/50\n",
      "4000/4000 [==============================] - 3s 819us/step - loss: 0.6931 - acc: 0.4038\n",
      "Epoch 39/50\n",
      "4000/4000 [==============================] - 3s 796us/step - loss: 0.6931 - acc: 0.4080\n",
      "Epoch 40/50\n",
      "4000/4000 [==============================] - 3s 835us/step - loss: 0.6931 - acc: 0.3929\n",
      "Epoch 41/50\n",
      "4000/4000 [==============================] - 3s 848us/step - loss: 0.6931 - acc: 0.4099\n",
      "Epoch 42/50\n",
      "4000/4000 [==============================] - 3s 813us/step - loss: 0.6931 - acc: 0.4081\n",
      "Epoch 43/50\n",
      "4000/4000 [==============================] - 3s 809us/step - loss: 0.6931 - acc: 0.4118\n",
      "Epoch 44/50\n",
      "4000/4000 [==============================] - 3s 806us/step - loss: 0.6931 - acc: 0.4006\n",
      "Epoch 45/50\n",
      "4000/4000 [==============================] - 3s 784us/step - loss: 0.6931 - acc: 0.4003\n",
      "Epoch 46/50\n",
      "4000/4000 [==============================] - 3s 793us/step - loss: 0.6931 - acc: 0.4039\n",
      "Epoch 47/50\n",
      "4000/4000 [==============================] - 3s 815us/step - loss: 0.6931 - acc: 0.4021\n",
      "Epoch 48/50\n",
      "4000/4000 [==============================] - 3s 792us/step - loss: 0.6931 - acc: 0.4052\n",
      "Epoch 49/50\n",
      "4000/4000 [==============================] - 3s 786us/step - loss: 0.6931 - acc: 0.4104\n",
      "Epoch 50/50\n",
      "4000/4000 [==============================] - 3s 775us/step - loss: 0.6931 - acc: 0.4203\n"
     ]
    },
    {
     "data": {
      "text/plain": [
       "<tensorflow.python.keras.callbacks.History at 0x7fd0658ebe80>"
      ]
     },
     "execution_count": 11,
     "metadata": {},
     "output_type": "execute_result"
    }
   ],
   "source": [
    "\n",
    "opt=tf.keras.optimizers.Adam(learning_rate=0.001)\n",
    "models.compile(optimizer=opt, loss=\"binary_crossentropy\", metrics=[ \"acc\"])\n",
    "models.fit(train_data_normalised,train_labels,1,epochs=50)"
   ]
  },
  {
   "cell_type": "code",
   "execution_count": 12,
   "id": "anonymous-advance",
   "metadata": {},
   "outputs": [
    {
     "name": "stdout",
     "output_type": "stream",
     "text": [
      "999/999 [==============================] - 1s 473us/step - loss: 7.6786 - acc: 0.5055\n"
     ]
    },
    {
     "data": {
      "text/plain": [
       "[7.678557872772217, 0.5055055022239685]"
      ]
     },
     "execution_count": 12,
     "metadata": {},
     "output_type": "execute_result"
    }
   ],
   "source": [
    "test_data_1 = test_data.reshape((-1, 1, 400))\n",
    "models.evaluate(test_data_1, test_labels,1)"
   ]
  },
  {
   "cell_type": "code",
   "execution_count": 14,
   "id": "composed-passing",
   "metadata": {},
   "outputs": [],
   "source": [
    "classify=models.predict(test_data_1)\n"
   ]
  },
  {
   "cell_type": "code",
   "execution_count": 15,
   "id": "third-cooperation",
   "metadata": {},
   "outputs": [
    {
     "name": "stdout",
     "output_type": "stream",
     "text": [
      "Epoch 1/50\n",
      "4000/4000 [==============================] - 4s 776us/step - loss: 0.2500 - acc: 0.4018\n",
      "Epoch 2/50\n",
      "4000/4000 [==============================] - 4s 1ms/step - loss: 0.2500 - acc: 0.4058\n",
      "Epoch 3/50\n",
      "4000/4000 [==============================] - 3s 664us/step - loss: 0.2500 - acc: 0.3985\n",
      "Epoch 4/50\n",
      "4000/4000 [==============================] - 3s 741us/step - loss: 0.2500 - acc: 0.4003\n",
      "Epoch 5/50\n",
      "4000/4000 [==============================] - 3s 768us/step - loss: 0.2500 - acc: 0.4016\n",
      "Epoch 6/50\n",
      "4000/4000 [==============================] - 3s 676us/step - loss: 0.2500 - acc: 0.4018\n",
      "Epoch 7/50\n",
      "4000/4000 [==============================] - 3s 690us/step - loss: 0.2500 - acc: 0.3940\n",
      "Epoch 8/50\n",
      "4000/4000 [==============================] - 3s 701us/step - loss: 0.2500 - acc: 0.3953\n",
      "Epoch 9/50\n",
      "4000/4000 [==============================] - 3s 713us/step - loss: 0.2500 - acc: 0.3926\n",
      "Epoch 10/50\n",
      "4000/4000 [==============================] - 3s 700us/step - loss: 0.2500 - acc: 0.4111\n",
      "Epoch 11/50\n",
      "4000/4000 [==============================] - 3s 829us/step - loss: 0.2500 - acc: 0.3962\n",
      "Epoch 12/50\n",
      "4000/4000 [==============================] - 3s 795us/step - loss: 0.2500 - acc: 0.4045\n",
      "Epoch 13/50\n",
      "4000/4000 [==============================] - 4s 929us/step - loss: 0.2500 - acc: 0.4052\n",
      "Epoch 14/50\n",
      "4000/4000 [==============================] - 3s 866us/step - loss: 0.2500 - acc: 0.4050\n",
      "Epoch 15/50\n",
      "4000/4000 [==============================] - 3s 674us/step - loss: 0.2500 - acc: 0.4028\n",
      "Epoch 16/50\n",
      "4000/4000 [==============================] - 3s 674us/step - loss: 0.2500 - acc: 0.4088\n",
      "Epoch 17/50\n",
      "4000/4000 [==============================] - 3s 752us/step - loss: 0.2500 - acc: 0.4011\n",
      "Epoch 18/50\n",
      "4000/4000 [==============================] - 3s 689us/step - loss: 0.2500 - acc: 0.4118\n",
      "Epoch 19/50\n",
      "4000/4000 [==============================] - 3s 707us/step - loss: 0.2500 - acc: 0.3981\n",
      "Epoch 20/50\n",
      "4000/4000 [==============================] - 3s 764us/step - loss: 0.2500 - acc: 0.3992\n",
      "Epoch 21/50\n",
      "4000/4000 [==============================] - 3s 726us/step - loss: 0.2500 - acc: 0.3961\n",
      "Epoch 22/50\n",
      "4000/4000 [==============================] - 3s 809us/step - loss: 0.2500 - acc: 0.4139\n",
      "Epoch 23/50\n",
      "4000/4000 [==============================] - 3s 761us/step - loss: 0.2500 - acc: 0.4151\n",
      "Epoch 24/50\n",
      "4000/4000 [==============================] - 4s 903us/step - loss: 0.2500 - acc: 0.3988\n",
      "Epoch 25/50\n",
      "4000/4000 [==============================] - 3s 703us/step - loss: 0.2500 - acc: 0.4083\n",
      "Epoch 26/50\n",
      "4000/4000 [==============================] - 3s 724us/step - loss: 0.2500 - acc: 0.4122\n",
      "Epoch 27/50\n",
      "4000/4000 [==============================] - 4s 907us/step - loss: 0.2500 - acc: 0.3993\n",
      "Epoch 28/50\n",
      "4000/4000 [==============================] - 3s 845us/step - loss: 0.2500 - acc: 0.3979\n",
      "Epoch 29/50\n",
      "4000/4000 [==============================] - 3s 803us/step - loss: 0.2500 - acc: 0.3978\n",
      "Epoch 30/50\n",
      "4000/4000 [==============================] - 3s 700us/step - loss: 0.2500 - acc: 0.3955\n",
      "Epoch 31/50\n",
      "4000/4000 [==============================] - 3s 692us/step - loss: 0.2500 - acc: 0.4118\n",
      "Epoch 32/50\n",
      "4000/4000 [==============================] - 3s 796us/step - loss: 0.2500 - acc: 0.4067\n",
      "Epoch 33/50\n",
      "4000/4000 [==============================] - 3s 807us/step - loss: 0.2500 - acc: 0.4090\n",
      "Epoch 34/50\n",
      "4000/4000 [==============================] - 4s 929us/step - loss: 0.2500 - acc: 0.3991\n",
      "Epoch 35/50\n",
      "4000/4000 [==============================] - 3s 806us/step - loss: 0.2500 - acc: 0.4080\n",
      "Epoch 36/50\n",
      "4000/4000 [==============================] - 3s 752us/step - loss: 0.2500 - acc: 0.4018\n",
      "Epoch 37/50\n",
      "4000/4000 [==============================] - 4s 927us/step - loss: 0.2500 - acc: 0.3956 0s - loss: 0.2500 - a\n",
      "Epoch 38/50\n",
      "4000/4000 [==============================] - 4s 1ms/step - loss: 0.2500 - acc: 0.4062\n",
      "Epoch 39/50\n",
      "4000/4000 [==============================] - 3s 729us/step - loss: 0.2500 - acc: 0.4040\n",
      "Epoch 40/50\n",
      "4000/4000 [==============================] - 3s 731us/step - loss: 0.2500 - acc: 0.3950\n",
      "Epoch 41/50\n",
      "4000/4000 [==============================] - 4s 987us/step - loss: 0.2500 - acc: 0.4005\n",
      "Epoch 42/50\n",
      "4000/4000 [==============================] - 4s 920us/step - loss: 0.2500 - acc: 0.3994\n",
      "Epoch 43/50\n",
      "4000/4000 [==============================] - 3s 685us/step - loss: 0.2500 - acc: 0.4115\n",
      "Epoch 44/50\n",
      "4000/4000 [==============================] - 3s 845us/step - loss: 0.2500 - acc: 0.3925 0s - loss: 0.2500 -\n",
      "Epoch 45/50\n",
      "4000/4000 [==============================] - 3s 847us/step - loss: 0.2500 - acc: 0.4037\n",
      "Epoch 46/50\n",
      "4000/4000 [==============================] - 3s 760us/step - loss: 0.2500 - acc: 0.4043\n",
      "Epoch 47/50\n",
      "4000/4000 [==============================] - 3s 730us/step - loss: 0.2500 - acc: 0.4051\n",
      "Epoch 48/50\n",
      "4000/4000 [==============================] - 3s 729us/step - loss: 0.2500 - acc: 0.4104\n",
      "Epoch 49/50\n",
      "4000/4000 [==============================] - 3s 831us/step - loss: 0.2500 - acc: 0.4014\n",
      "Epoch 50/50\n",
      "4000/4000 [==============================] - 3s 789us/step - loss: 0.2500 - acc: 0.4012\n"
     ]
    },
    {
     "data": {
      "text/plain": [
       "<tensorflow.python.keras.callbacks.History at 0x7fd065589790>"
      ]
     },
     "execution_count": 15,
     "metadata": {},
     "output_type": "execute_result"
    }
   ],
   "source": [
    "\n",
    "opt=tf.keras.optimizers.SGD(learning_rate=0.01)\n",
    "models.compile(optimizer=opt, loss=\"mse\", metrics=[ \"acc\"])\n",
    "models.fit(train_data_normalised,train_labels,1,epochs=50)"
   ]
  },
  {
   "cell_type": "code",
   "execution_count": 16,
   "id": "plastic-fitness",
   "metadata": {},
   "outputs": [
    {
     "name": "stdout",
     "output_type": "stream",
     "text": [
      "999/999 [==============================] - 1s 506us/step - loss: 0.5000 - acc: 0.5045\n"
     ]
    },
    {
     "data": {
      "text/plain": [
       "[0.5, 0.5045045018196106]"
      ]
     },
     "execution_count": 16,
     "metadata": {},
     "output_type": "execute_result"
    }
   ],
   "source": [
    "test_data_2 = test_data.reshape((-1, 1, 400))\n",
    "models.evaluate(test_data_2, test_labels,1)"
   ]
  },
  {
   "cell_type": "code",
   "execution_count": 17,
   "id": "seventh-section",
   "metadata": {},
   "outputs": [
    {
     "name": "stdout",
     "output_type": "stream",
     "text": [
      "Epoch 1/50\n",
      "4000/4000 [==============================] - 4s 761us/step - loss: 0.2500 - acc: 0.3964\n",
      "Epoch 2/50\n",
      "4000/4000 [==============================] - 3s 784us/step - loss: 0.2500 - acc: 0.4226\n",
      "Epoch 3/50\n",
      "4000/4000 [==============================] - 3s 773us/step - loss: 0.2500 - acc: 0.4001\n",
      "Epoch 4/50\n",
      "4000/4000 [==============================] - 3s 757us/step - loss: 0.2500 - acc: 0.4089\n",
      "Epoch 5/50\n",
      "4000/4000 [==============================] - 3s 758us/step - loss: 0.2500 - acc: 0.4041\n",
      "Epoch 6/50\n",
      "4000/4000 [==============================] - 3s 760us/step - loss: 0.2500 - acc: 0.4009\n",
      "Epoch 7/50\n",
      "4000/4000 [==============================] - 3s 762us/step - loss: 0.2500 - acc: 0.4167\n",
      "Epoch 8/50\n",
      "4000/4000 [==============================] - 3s 780us/step - loss: 0.2500 - acc: 0.4141\n",
      "Epoch 9/50\n",
      "4000/4000 [==============================] - 3s 813us/step - loss: 0.2500 - acc: 0.4020\n",
      "Epoch 10/50\n",
      "4000/4000 [==============================] - 3s 780us/step - loss: 0.2500 - acc: 0.4047\n",
      "Epoch 11/50\n",
      "4000/4000 [==============================] - 3s 765us/step - loss: 0.2500 - acc: 0.3990\n",
      "Epoch 12/50\n",
      "4000/4000 [==============================] - 3s 776us/step - loss: 0.2500 - acc: 0.4048\n",
      "Epoch 13/50\n",
      "4000/4000 [==============================] - 3s 789us/step - loss: 0.2500 - acc: 0.3971\n",
      "Epoch 14/50\n",
      "4000/4000 [==============================] - 3s 787us/step - loss: 0.2500 - acc: 0.4089\n",
      "Epoch 15/50\n",
      "4000/4000 [==============================] - 3s 806us/step - loss: 0.2500 - acc: 0.4014\n",
      "Epoch 16/50\n",
      "4000/4000 [==============================] - 3s 798us/step - loss: 0.2500 - acc: 0.4071\n",
      "Epoch 17/50\n",
      "4000/4000 [==============================] - 3s 768us/step - loss: 0.2500 - acc: 0.4167\n",
      "Epoch 18/50\n",
      "4000/4000 [==============================] - 3s 767us/step - loss: 0.2500 - acc: 0.4099\n",
      "Epoch 19/50\n",
      "4000/4000 [==============================] - 3s 772us/step - loss: 0.2500 - acc: 0.4057\n",
      "Epoch 20/50\n",
      "4000/4000 [==============================] - 3s 774us/step - loss: 0.2500 - acc: 0.3983\n",
      "Epoch 21/50\n",
      "4000/4000 [==============================] - 3s 795us/step - loss: 0.2500 - acc: 0.4104\n",
      "Epoch 22/50\n",
      "4000/4000 [==============================] - 3s 783us/step - loss: 0.2500 - acc: 0.4150\n",
      "Epoch 23/50\n",
      "4000/4000 [==============================] - 3s 770us/step - loss: 0.2500 - acc: 0.3969\n",
      "Epoch 24/50\n",
      "4000/4000 [==============================] - 3s 793us/step - loss: 0.2500 - acc: 0.4080\n",
      "Epoch 25/50\n",
      "4000/4000 [==============================] - 3s 761us/step - loss: 0.2500 - acc: 0.4027\n",
      "Epoch 26/50\n",
      "4000/4000 [==============================] - 3s 781us/step - loss: 0.2500 - acc: 0.4087\n",
      "Epoch 27/50\n",
      "4000/4000 [==============================] - 3s 748us/step - loss: 0.2500 - acc: 0.3967\n",
      "Epoch 28/50\n",
      "4000/4000 [==============================] - 3s 777us/step - loss: 0.2500 - acc: 0.4099\n",
      "Epoch 29/50\n",
      "4000/4000 [==============================] - 3s 771us/step - loss: 0.2500 - acc: 0.4039\n",
      "Epoch 30/50\n",
      "4000/4000 [==============================] - 3s 788us/step - loss: 0.2500 - acc: 0.4004\n",
      "Epoch 31/50\n",
      "4000/4000 [==============================] - 3s 788us/step - loss: 0.2500 - acc: 0.3939\n",
      "Epoch 32/50\n",
      "4000/4000 [==============================] - 3s 794us/step - loss: 0.2500 - acc: 0.4013\n",
      "Epoch 33/50\n",
      "4000/4000 [==============================] - 3s 781us/step - loss: 0.2500 - acc: 0.4081\n",
      "Epoch 34/50\n",
      "4000/4000 [==============================] - 3s 760us/step - loss: 0.2500 - acc: 0.3884\n",
      "Epoch 35/50\n",
      "4000/4000 [==============================] - 3s 764us/step - loss: 0.2500 - acc: 0.4018\n",
      "Epoch 36/50\n",
      "4000/4000 [==============================] - 3s 767us/step - loss: 0.2500 - acc: 0.4188\n",
      "Epoch 37/50\n",
      "4000/4000 [==============================] - 3s 762us/step - loss: 0.2500 - acc: 0.4069\n",
      "Epoch 38/50\n",
      "4000/4000 [==============================] - 3s 770us/step - loss: 0.2500 - acc: 0.4121\n",
      "Epoch 39/50\n",
      "4000/4000 [==============================] - 3s 795us/step - loss: 0.2500 - acc: 0.4048\n",
      "Epoch 40/50\n",
      "4000/4000 [==============================] - 3s 783us/step - loss: 0.2500 - acc: 0.3976\n",
      "Epoch 41/50\n",
      "4000/4000 [==============================] - 3s 767us/step - loss: 0.2500 - acc: 0.3982\n",
      "Epoch 42/50\n",
      "4000/4000 [==============================] - 3s 778us/step - loss: 0.2500 - acc: 0.4091\n",
      "Epoch 43/50\n",
      "4000/4000 [==============================] - 3s 777us/step - loss: 0.2500 - acc: 0.4074\n",
      "Epoch 44/50\n",
      "4000/4000 [==============================] - 3s 833us/step - loss: 0.2500 - acc: 0.3945\n",
      "Epoch 45/50\n",
      "4000/4000 [==============================] - 3s 868us/step - loss: 0.2500 - acc: 0.3954\n",
      "Epoch 46/50\n",
      "4000/4000 [==============================] - 3s 790us/step - loss: 0.2500 - acc: 0.3996\n",
      "Epoch 47/50\n",
      "4000/4000 [==============================] - 3s 777us/step - loss: 0.2500 - acc: 0.4011\n",
      "Epoch 48/50\n",
      "4000/4000 [==============================] - 3s 759us/step - loss: 0.2500 - acc: 0.4130\n",
      "Epoch 49/50\n",
      "4000/4000 [==============================] - 3s 789us/step - loss: 0.2500 - acc: 0.4113\n",
      "Epoch 50/50\n",
      "4000/4000 [==============================] - 3s 783us/step - loss: 0.2500 - acc: 0.4057\n"
     ]
    },
    {
     "data": {
      "text/plain": [
       "<tensorflow.python.keras.callbacks.History at 0x7fd0652d0b50>"
      ]
     },
     "execution_count": 17,
     "metadata": {},
     "output_type": "execute_result"
    }
   ],
   "source": [
    "\n",
    "opt=tf.keras.optimizers.Adam(learning_rate=0.01)\n",
    "models.compile(optimizer=opt, loss=\"mse\", metrics=[ \"acc\"])\n",
    "models.fit(train_data_normalised,train_labels,1,epochs=50)"
   ]
  },
  {
   "cell_type": "code",
   "execution_count": 18,
   "id": "finite-bernard",
   "metadata": {},
   "outputs": [
    {
     "name": "stdout",
     "output_type": "stream",
     "text": [
      "999/999 [==============================] - 1s 446us/step - loss: 0.5000 - acc: 0.5055\n"
     ]
    },
    {
     "data": {
      "text/plain": [
       "[0.5, 0.5055055022239685]"
      ]
     },
     "execution_count": 18,
     "metadata": {},
     "output_type": "execute_result"
    }
   ],
   "source": [
    "test_data_3 = test_data.reshape((-1, 1, 400))\n",
    "models.evaluate(test_data_3, test_labels,1)"
   ]
  },
  {
   "cell_type": "code",
   "execution_count": 20,
   "id": "genetic-torture",
   "metadata": {},
   "outputs": [],
   "source": [
    "train_data_normalised=(train_data-train_data.mean())/train_data.std()\n",
    "train_data_normalised = train_data_normalised.reshape((-1, 1, 400))\n",
    "# train_data_normalised = train_data_normalised.reshape((1, 400, 4000))\n",
    "# train_data_normalised = train_data_normalised.reshape((-1, 400, 1))\n",
    "#conv-1\n",
    "inputs = tf.keras.Input(shape=(None,400))\n",
    "conv1 = tf.keras.layers.Conv1D(24, (5),strides=1, padding='same')(inputs)\n",
    "bn1=tf.keras.layers.BatchNormalization(axis=-1, momentum=0.99, epsilon=0.001, center=True, scale=True,beta_initializer='zeros', gamma_initializer='ones')(conv1)\n",
    "rel1 = tf.keras.layers.Activation('sigmoid')(bn1)\n",
    "\n",
    "#conv-2\n",
    "conv2 = tf.keras.layers.Conv1D(16, (3),strides=1, padding='same')(rel1)\n",
    "bn2=tf.keras.layers.BatchNormalization(axis=-1, momentum=0.99, epsilon=0.001, center=True, scale=True,beta_initializer='zeros', gamma_initializer='ones')(conv2)\n",
    "rel2 = tf.keras.layers.Activation('sigmoid')(bn2)\n",
    "\n",
    "#conv-3\n",
    "conv3 = tf.keras.layers.Conv1D(8, (3),strides=1, padding='same')(rel2)\n",
    "bn3=tf.keras.layers.BatchNormalization(axis=-1, momentum=0.99, epsilon=0.001, center=True, scale=True,beta_initializer='zeros', gamma_initializer='ones')(conv3)\n",
    "rel3 = tf.keras.layers.Activation('sigmoid')(bn3)\n",
    "\n",
    "#FC-1\n",
    "fc1=tf.keras.layers.Dense(20, activation='sigmoid', use_bias=True)(rel3)\n",
    "\n",
    "#dropout\n",
    "do=tf.keras.layers.Dropout(rate=0.1)(fc1)\n",
    "\n",
    "#FC-2\n",
    "outputs = tf.keras.layers.Dense(2, activation=tf.nn.softmax)(do)\n",
    "##build the model\n",
    "models2 = tf.keras.Model(inputs=inputs, outputs=outputs)"
   ]
  },
  {
   "cell_type": "code",
   "execution_count": 21,
   "id": "stable-projection",
   "metadata": {},
   "outputs": [
    {
     "name": "stdout",
     "output_type": "stream",
     "text": [
      "Epoch 1/50\n",
      "4000/4000 [==============================] - 4s 773us/step - loss: 0.6931 - acc: 0.3874\n",
      "Epoch 2/50\n",
      "4000/4000 [==============================] - 3s 764us/step - loss: 0.6931 - acc: 0.3927\n",
      "Epoch 3/50\n",
      "4000/4000 [==============================] - 3s 792us/step - loss: 0.6931 - acc: 0.3944\n",
      "Epoch 4/50\n",
      "4000/4000 [==============================] - 3s 781us/step - loss: 0.6931 - acc: 0.4080\n",
      "Epoch 5/50\n",
      "4000/4000 [==============================] - 3s 780us/step - loss: 0.6931 - acc: 0.4122\n",
      "Epoch 6/50\n",
      "4000/4000 [==============================] - 3s 786us/step - loss: 0.6931 - acc: 0.4056\n",
      "Epoch 7/50\n",
      "4000/4000 [==============================] - 3s 777us/step - loss: 0.6931 - acc: 0.4112\n",
      "Epoch 8/50\n",
      "4000/4000 [==============================] - 3s 775us/step - loss: 0.6931 - acc: 0.4099\n",
      "Epoch 9/50\n",
      "4000/4000 [==============================] - 3s 777us/step - loss: 0.6931 - acc: 0.4043\n",
      "Epoch 10/50\n",
      "4000/4000 [==============================] - 3s 771us/step - loss: 0.6931 - acc: 0.3900\n",
      "Epoch 11/50\n",
      "4000/4000 [==============================] - 3s 776us/step - loss: 0.6931 - acc: 0.4019\n",
      "Epoch 12/50\n",
      "4000/4000 [==============================] - 3s 778us/step - loss: 0.6931 - acc: 0.4121\n",
      "Epoch 13/50\n",
      "4000/4000 [==============================] - 3s 786us/step - loss: 0.6931 - acc: 0.4064\n",
      "Epoch 14/50\n",
      "4000/4000 [==============================] - 3s 782us/step - loss: 0.6931 - acc: 0.4074\n",
      "Epoch 15/50\n",
      "4000/4000 [==============================] - 3s 760us/step - loss: 0.6931 - acc: 0.4052\n",
      "Epoch 16/50\n",
      "4000/4000 [==============================] - 3s 772us/step - loss: 0.6931 - acc: 0.4105\n",
      "Epoch 17/50\n",
      "4000/4000 [==============================] - 3s 781us/step - loss: 0.6931 - acc: 0.3894\n",
      "Epoch 18/50\n",
      "4000/4000 [==============================] - 3s 780us/step - loss: 0.6931 - acc: 0.4013\n",
      "Epoch 19/50\n",
      "4000/4000 [==============================] - 3s 775us/step - loss: 0.6931 - acc: 0.4051\n",
      "Epoch 20/50\n",
      "4000/4000 [==============================] - 3s 776us/step - loss: 0.6931 - acc: 0.4073\n",
      "Epoch 21/50\n",
      "4000/4000 [==============================] - 3s 789us/step - loss: 0.6931 - acc: 0.3875\n",
      "Epoch 22/50\n",
      "4000/4000 [==============================] - 3s 786us/step - loss: 0.6931 - acc: 0.4087\n",
      "Epoch 23/50\n",
      "4000/4000 [==============================] - 3s 781us/step - loss: 0.6931 - acc: 0.4133\n",
      "Epoch 24/50\n",
      "4000/4000 [==============================] - 3s 779us/step - loss: 0.6931 - acc: 0.3985\n",
      "Epoch 25/50\n",
      "4000/4000 [==============================] - 3s 799us/step - loss: 0.6931 - acc: 0.4079\n",
      "Epoch 26/50\n",
      "4000/4000 [==============================] - 3s 794us/step - loss: 0.6931 - acc: 0.4039\n",
      "Epoch 27/50\n",
      "4000/4000 [==============================] - 3s 779us/step - loss: 0.6931 - acc: 0.4093\n",
      "Epoch 28/50\n",
      "4000/4000 [==============================] - 3s 767us/step - loss: 0.6931 - acc: 0.4081\n",
      "Epoch 29/50\n",
      "4000/4000 [==============================] - 3s 772us/step - loss: 0.6931 - acc: 0.4150\n",
      "Epoch 30/50\n",
      "4000/4000 [==============================] - 3s 775us/step - loss: 0.6931 - acc: 0.3950\n",
      "Epoch 31/50\n",
      "4000/4000 [==============================] - 3s 767us/step - loss: 0.6931 - acc: 0.3995\n",
      "Epoch 32/50\n",
      "4000/4000 [==============================] - 3s 791us/step - loss: 0.6931 - acc: 0.3989\n",
      "Epoch 33/50\n",
      "4000/4000 [==============================] - 3s 799us/step - loss: 0.6931 - acc: 0.3914\n",
      "Epoch 34/50\n",
      "4000/4000 [==============================] - 3s 767us/step - loss: 0.6931 - acc: 0.4136\n",
      "Epoch 35/50\n",
      "4000/4000 [==============================] - 3s 767us/step - loss: 0.6931 - acc: 0.4037\n",
      "Epoch 36/50\n",
      "4000/4000 [==============================] - 3s 767us/step - loss: 0.6931 - acc: 0.4086\n",
      "Epoch 37/50\n",
      "4000/4000 [==============================] - 3s 780us/step - loss: 0.6931 - acc: 0.3977\n",
      "Epoch 38/50\n",
      "4000/4000 [==============================] - 3s 782us/step - loss: 0.6931 - acc: 0.3980\n",
      "Epoch 39/50\n",
      "4000/4000 [==============================] - 3s 775us/step - loss: 0.6931 - acc: 0.4042\n",
      "Epoch 40/50\n",
      "4000/4000 [==============================] - 3s 803us/step - loss: 0.6931 - acc: 0.4077\n",
      "Epoch 41/50\n",
      "4000/4000 [==============================] - 3s 804us/step - loss: 0.6931 - acc: 0.3968\n",
      "Epoch 42/50\n",
      "4000/4000 [==============================] - 3s 777us/step - loss: 0.6931 - acc: 0.4012\n",
      "Epoch 43/50\n",
      "4000/4000 [==============================] - 3s 771us/step - loss: 0.6931 - acc: 0.4012\n",
      "Epoch 44/50\n",
      "4000/4000 [==============================] - 3s 774us/step - loss: 0.6931 - acc: 0.3863\n",
      "Epoch 45/50\n",
      "4000/4000 [==============================] - 3s 796us/step - loss: 0.6931 - acc: 0.4083\n",
      "Epoch 46/50\n",
      "4000/4000 [==============================] - 3s 785us/step - loss: 0.6931 - acc: 0.4030\n",
      "Epoch 47/50\n",
      "4000/4000 [==============================] - 3s 812us/step - loss: 0.6931 - acc: 0.4043\n",
      "Epoch 48/50\n",
      "4000/4000 [==============================] - 3s 791us/step - loss: 0.6931 - acc: 0.4052\n",
      "Epoch 49/50\n",
      "4000/4000 [==============================] - 3s 805us/step - loss: 0.6931 - acc: 0.4005\n",
      "Epoch 50/50\n",
      "4000/4000 [==============================] - 3s 803us/step - loss: 0.6931 - acc: 0.4017\n"
     ]
    },
    {
     "data": {
      "text/plain": [
       "<tensorflow.python.keras.callbacks.History at 0x7fd06276d5e0>"
      ]
     },
     "execution_count": 21,
     "metadata": {},
     "output_type": "execute_result"
    }
   ],
   "source": [
    "opt=tf.keras.optimizers.Adam(learning_rate=0.01)\n",
    "models.compile(optimizer=opt, loss=\"binary_crossentropy\", metrics=[ \"acc\"])\n",
    "models.fit(train_data_normalised,train_labels,1,epochs=50)"
   ]
  },
  {
   "cell_type": "code",
   "execution_count": 22,
   "id": "color-dressing",
   "metadata": {},
   "outputs": [
    {
     "name": "stdout",
     "output_type": "stream",
     "text": [
      "999/999 [==============================] - 1s 451us/step - loss: 7.6786 - acc: 0.5055\n"
     ]
    },
    {
     "data": {
      "text/plain": [
       "[7.678557872772217, 0.5055055022239685]"
      ]
     },
     "execution_count": 22,
     "metadata": {},
     "output_type": "execute_result"
    }
   ],
   "source": [
    "test_data_4 = test_data.reshape((-1, 1, 400))\n",
    "models.evaluate(test_data_4, test_labels,1)"
   ]
  },
  {
   "cell_type": "code",
   "execution_count": 23,
   "id": "accomplished-substitute",
   "metadata": {},
   "outputs": [],
   "source": [
    "train_data_normalised=(train_data-train_data.mean())/train_data.std()\n",
    "train_data_normalised = train_data_normalised.reshape((-1, 1, 400))\n",
    "# train_data_normalised = train_data_normalised.reshape((1, 400, 4000))\n",
    "# train_data_normalised = train_data_normalised.reshape((-1, 400, 1))\n",
    "#conv-1\n",
    "inputs = tf.keras.Input(shape=(None,400))\n",
    "conv1 = tf.keras.layers.Conv1D(24, (5),strides=1, padding='same')(inputs)\n",
    "bn1=tf.keras.layers.BatchNormalization(axis=-1, momentum=0.99, epsilon=0.001, center=True, scale=True,beta_initializer='zeros', gamma_initializer='ones')(conv1)\n",
    "rel1 = tf.keras.layers.Activation('relu')(bn1)\n",
    "\n",
    "#conv-2\n",
    "conv2 = tf.keras.layers.Conv1D(16, (3),strides=1, padding='same')(rel1)\n",
    "bn2=tf.keras.layers.BatchNormalization(axis=-1, momentum=0.99, epsilon=0.001, center=True, scale=True,beta_initializer='zeros', gamma_initializer='ones')(conv2)\n",
    "rel2 = tf.keras.layers.Activation('relu')(bn2)\n",
    "\n",
    "#conv-3\n",
    "conv3 = tf.keras.layers.Conv1D(8, (3),strides=1, padding='same')(rel2)\n",
    "bn3=tf.keras.layers.BatchNormalization(axis=-1, momentum=0.99, epsilon=0.001, center=True, scale=True,beta_initializer='zeros', gamma_initializer='ones')(conv3)\n",
    "rel3 = tf.keras.layers.Activation('relu')(bn3)\n",
    "\n",
    "#FC-1\n",
    "fc1=tf.keras.layers.Dense(20, activation='sigmoid', use_bias=True)(rel3)\n",
    "\n",
    "#dropout\n",
    "do=tf.keras.layers.Dropout(rate=0.1)(fc1)\n",
    "\n",
    "#FC-2\n",
    "outputs = tf.keras.layers.Dense(2, activation=tf.nn.softmax)(do)\n",
    "##build the model\n",
    "models3 = tf.keras.Model(inputs=inputs, outputs=outputs)"
   ]
  },
  {
   "cell_type": "code",
   "execution_count": 25,
   "id": "narrow-appraisal",
   "metadata": {},
   "outputs": [
    {
     "name": "stdout",
     "output_type": "stream",
     "text": [
      "Epoch 1/50\n",
      "4000/4000 [==============================] - 3s 753us/step - loss: 0.1201 - acc: 0.4030\n",
      "Epoch 2/50\n",
      "4000/4000 [==============================] - 3s 755us/step - loss: 0.1201 - acc: 0.3946\n",
      "Epoch 3/50\n",
      "4000/4000 [==============================] - 3s 748us/step - loss: 0.1201 - acc: 0.4023\n",
      "Epoch 4/50\n",
      "4000/4000 [==============================] - 3s 761us/step - loss: 0.1201 - acc: 0.3984\n",
      "Epoch 5/50\n",
      "4000/4000 [==============================] - 3s 756us/step - loss: 0.1201 - acc: 0.4062\n",
      "Epoch 6/50\n",
      "4000/4000 [==============================] - 3s 769us/step - loss: 0.1201 - acc: 0.3900\n",
      "Epoch 7/50\n",
      "4000/4000 [==============================] - 3s 767us/step - loss: 0.1201 - acc: 0.3960\n",
      "Epoch 8/50\n",
      "4000/4000 [==============================] - 3s 761us/step - loss: 0.1201 - acc: 0.4039\n",
      "Epoch 9/50\n",
      "4000/4000 [==============================] - 3s 755us/step - loss: 0.1201 - acc: 0.3959\n",
      "Epoch 10/50\n",
      "4000/4000 [==============================] - 3s 753us/step - loss: 0.1201 - acc: 0.4110\n",
      "Epoch 11/50\n",
      "4000/4000 [==============================] - 3s 748us/step - loss: 0.1201 - acc: 0.4024\n",
      "Epoch 12/50\n",
      "4000/4000 [==============================] - 3s 763us/step - loss: 0.1201 - acc: 0.4148\n",
      "Epoch 13/50\n",
      "4000/4000 [==============================] - 3s 766us/step - loss: 0.1201 - acc: 0.4018\n",
      "Epoch 14/50\n",
      "4000/4000 [==============================] - 3s 775us/step - loss: 0.1201 - acc: 0.4219\n",
      "Epoch 15/50\n",
      "4000/4000 [==============================] - 3s 751us/step - loss: 0.1201 - acc: 0.3960\n",
      "Epoch 16/50\n",
      "4000/4000 [==============================] - 3s 742us/step - loss: 0.1201 - acc: 0.4043\n",
      "Epoch 17/50\n",
      "4000/4000 [==============================] - 3s 755us/step - loss: 0.1201 - acc: 0.4049\n",
      "Epoch 18/50\n",
      "4000/4000 [==============================] - 3s 776us/step - loss: 0.1201 - acc: 0.3970\n",
      "Epoch 19/50\n",
      "4000/4000 [==============================] - 3s 793us/step - loss: 0.1201 - acc: 0.4075\n",
      "Epoch 20/50\n",
      "4000/4000 [==============================] - 3s 787us/step - loss: 0.1201 - acc: 0.3957\n",
      "Epoch 21/50\n",
      "4000/4000 [==============================] - 3s 744us/step - loss: 0.1201 - acc: 0.4083\n",
      "Epoch 22/50\n",
      "4000/4000 [==============================] - 3s 734us/step - loss: 0.1201 - acc: 0.3999\n",
      "Epoch 23/50\n",
      "4000/4000 [==============================] - 3s 772us/step - loss: 0.1201 - acc: 0.3885\n",
      "Epoch 24/50\n",
      "4000/4000 [==============================] - 3s 779us/step - loss: 0.1201 - acc: 0.3915\n",
      "Epoch 25/50\n",
      "4000/4000 [==============================] - 3s 757us/step - loss: 0.1201 - acc: 0.4081\n",
      "Epoch 26/50\n",
      "4000/4000 [==============================] - 3s 781us/step - loss: 0.1201 - acc: 0.4040\n",
      "Epoch 27/50\n",
      "4000/4000 [==============================] - 3s 772us/step - loss: 0.1201 - acc: 0.4085\n",
      "Epoch 28/50\n",
      "4000/4000 [==============================] - 3s 760us/step - loss: 0.1201 - acc: 0.4089\n",
      "Epoch 29/50\n",
      "4000/4000 [==============================] - 3s 784us/step - loss: 0.1201 - acc: 0.3882\n",
      "Epoch 30/50\n",
      "4000/4000 [==============================] - 3s 789us/step - loss: 0.1201 - acc: 0.4141\n",
      "Epoch 31/50\n",
      "4000/4000 [==============================] - 3s 774us/step - loss: 0.1201 - acc: 0.4140\n",
      "Epoch 32/50\n",
      "4000/4000 [==============================] - 3s 770us/step - loss: 0.1201 - acc: 0.4001\n",
      "Epoch 33/50\n",
      "4000/4000 [==============================] - 3s 758us/step - loss: 0.1201 - acc: 0.4042\n",
      "Epoch 34/50\n",
      "4000/4000 [==============================] - 3s 786us/step - loss: 0.1201 - acc: 0.4045\n",
      "Epoch 35/50\n",
      "4000/4000 [==============================] - 3s 778us/step - loss: 0.1201 - acc: 0.4165\n",
      "Epoch 36/50\n",
      "4000/4000 [==============================] - 3s 765us/step - loss: 0.1201 - acc: 0.4015\n",
      "Epoch 37/50\n",
      "4000/4000 [==============================] - 3s 758us/step - loss: 0.1201 - acc: 0.4115\n",
      "Epoch 38/50\n",
      "4000/4000 [==============================] - 3s 756us/step - loss: 0.1201 - acc: 0.3952\n",
      "Epoch 39/50\n",
      "4000/4000 [==============================] - 3s 789us/step - loss: 0.1201 - acc: 0.3967\n",
      "Epoch 40/50\n",
      "4000/4000 [==============================] - 3s 768us/step - loss: 0.1201 - acc: 0.4013\n",
      "Epoch 41/50\n",
      "4000/4000 [==============================] - 3s 778us/step - loss: 0.1201 - acc: 0.4031\n",
      "Epoch 42/50\n",
      "4000/4000 [==============================] - 3s 770us/step - loss: 0.1201 - acc: 0.4030\n",
      "Epoch 43/50\n",
      "4000/4000 [==============================] - 3s 780us/step - loss: 0.1201 - acc: 0.3962\n",
      "Epoch 44/50\n",
      "4000/4000 [==============================] - 3s 771us/step - loss: 0.1201 - acc: 0.3980\n",
      "Epoch 45/50\n",
      "4000/4000 [==============================] - 3s 773us/step - loss: 0.1201 - acc: 0.3974\n",
      "Epoch 46/50\n",
      "4000/4000 [==============================] - 3s 781us/step - loss: 0.1201 - acc: 0.4061\n",
      "Epoch 47/50\n",
      "4000/4000 [==============================] - 3s 775us/step - loss: 0.1201 - acc: 0.4119\n",
      "Epoch 48/50\n",
      "4000/4000 [==============================] - 3s 753us/step - loss: 0.1201 - acc: 0.3902\n",
      "Epoch 49/50\n",
      "4000/4000 [==============================] - 3s 772us/step - loss: 0.1201 - acc: 0.4007\n",
      "Epoch 50/50\n",
      "4000/4000 [==============================] - 3s 767us/step - loss: 0.1201 - acc: 0.4065\n"
     ]
    },
    {
     "data": {
      "text/plain": [
       "<tensorflow.python.keras.callbacks.History at 0x7fd0602e70d0>"
      ]
     },
     "execution_count": 25,
     "metadata": {},
     "output_type": "execute_result"
    }
   ],
   "source": [
    "opt=tf.keras.optimizers.Adam(learning_rate=0.001)\n",
    "models.compile(optimizer=opt, loss=\"logcosh\", metrics=[ \"acc\"])\n",
    "models.fit(train_data_normalised,train_labels,1,epochs=50)"
   ]
  },
  {
   "cell_type": "code",
   "execution_count": 26,
   "id": "backed-pharmacology",
   "metadata": {},
   "outputs": [
    {
     "name": "stdout",
     "output_type": "stream",
     "text": [
      "999/999 [==============================] - 1s 472us/step - loss: 0.2169 - acc: 0.5055\n"
     ]
    },
    {
     "data": {
      "text/plain": [
       "[0.21688927710056305, 0.5055055022239685]"
      ]
     },
     "execution_count": 26,
     "metadata": {},
     "output_type": "execute_result"
    }
   ],
   "source": [
    "test_data_5 = test_data.reshape((-1, 1, 400))\n",
    "models.evaluate(test_data_5, test_labels,1)\n"
   ]
  },
  {
   "cell_type": "code",
   "execution_count": 29,
   "id": "finite-realtor",
   "metadata": {},
   "outputs": [
    {
     "name": "stdout",
     "output_type": "stream",
     "text": [
      "Epoch 1/50\n",
      "4000/4000 [==============================] - 5s 953us/step - loss: 0.1201 - acc: 0.4019\n",
      "Epoch 2/50\n",
      "4000/4000 [==============================] - 4s 952us/step - loss: 0.1201 - acc: 0.3967\n",
      "Epoch 3/50\n",
      "4000/4000 [==============================] - 4s 956us/step - loss: 0.1201 - acc: 0.3860\n",
      "Epoch 4/50\n",
      "4000/4000 [==============================] - 4s 954us/step - loss: 0.1201 - acc: 0.4008\n",
      "Epoch 5/50\n",
      "4000/4000 [==============================] - 4s 984us/step - loss: 0.1201 - acc: 0.4030\n",
      "Epoch 6/50\n",
      "4000/4000 [==============================] - 4s 987us/step - loss: 0.1201 - acc: 0.4088\n",
      "Epoch 7/50\n",
      "4000/4000 [==============================] - 4s 1ms/step - loss: 0.1201 - acc: 0.4089\n",
      "Epoch 8/50\n",
      "4000/4000 [==============================] - 4s 1ms/step - loss: 0.1201 - acc: 0.3971\n",
      "Epoch 9/50\n",
      "4000/4000 [==============================] - 4s 956us/step - loss: 0.1201 - acc: 0.4067\n",
      "Epoch 10/50\n",
      "4000/4000 [==============================] - 4s 968us/step - loss: 0.1201 - acc: 0.4237\n",
      "Epoch 11/50\n",
      "4000/4000 [==============================] - 4s 1ms/step - loss: 0.1201 - acc: 0.4009\n",
      "Epoch 12/50\n",
      "4000/4000 [==============================] - 4s 1ms/step - loss: 0.1201 - acc: 0.4120\n",
      "Epoch 13/50\n",
      "4000/4000 [==============================] - 4s 1ms/step - loss: 0.1201 - acc: 0.4046\n",
      "Epoch 14/50\n",
      "4000/4000 [==============================] - 4s 1ms/step - loss: 0.1201 - acc: 0.4243\n",
      "Epoch 15/50\n",
      "4000/4000 [==============================] - 4s 1ms/step - loss: 0.1201 - acc: 0.3961\n",
      "Epoch 16/50\n",
      "4000/4000 [==============================] - 4s 1ms/step - loss: 0.1201 - acc: 0.4108\n",
      "Epoch 17/50\n",
      "4000/4000 [==============================] - 4s 986us/step - loss: 0.1201 - acc: 0.4167\n",
      "Epoch 18/50\n",
      "4000/4000 [==============================] - 4s 1ms/step - loss: 0.1201 - acc: 0.4071\n",
      "Epoch 19/50\n",
      "4000/4000 [==============================] - 4s 1ms/step - loss: 0.1201 - acc: 0.4137\n",
      "Epoch 20/50\n",
      "4000/4000 [==============================] - 4s 1ms/step - loss: 0.1201 - acc: 0.4059\n",
      "Epoch 21/50\n",
      "4000/4000 [==============================] - 4s 994us/step - loss: 0.1201 - acc: 0.3968\n",
      "Epoch 22/50\n",
      "4000/4000 [==============================] - 4s 987us/step - loss: 0.1201 - acc: 0.4182\n",
      "Epoch 23/50\n",
      "4000/4000 [==============================] - 4s 977us/step - loss: 0.1201 - acc: 0.4003\n",
      "Epoch 24/50\n",
      "4000/4000 [==============================] - 4s 1ms/step - loss: 0.1201 - acc: 0.3955\n",
      "Epoch 25/50\n",
      "4000/4000 [==============================] - 4s 1ms/step - loss: 0.1201 - acc: 0.4146\n",
      "Epoch 26/50\n",
      "4000/4000 [==============================] - 4s 1ms/step - loss: 0.1201 - acc: 0.4136\n",
      "Epoch 27/50\n",
      "4000/4000 [==============================] - 4s 1ms/step - loss: 0.1201 - acc: 0.4163\n",
      "Epoch 28/50\n",
      "4000/4000 [==============================] - 4s 980us/step - loss: 0.1201 - acc: 0.3956\n",
      "Epoch 29/50\n",
      "4000/4000 [==============================] - 4s 976us/step - loss: 0.1201 - acc: 0.3977\n",
      "Epoch 30/50\n",
      "4000/4000 [==============================] - 5s 1ms/step - loss: 0.1201 - acc: 0.4109\n",
      "Epoch 31/50\n",
      "4000/4000 [==============================] - 4s 1ms/step - loss: 0.1201 - acc: 0.4103\n",
      "Epoch 32/50\n",
      "4000/4000 [==============================] - 4s 996us/step - loss: 0.1201 - acc: 0.3901\n",
      "Epoch 33/50\n",
      "4000/4000 [==============================] - 4s 1ms/step - loss: 0.1201 - acc: 0.4098\n",
      "Epoch 34/50\n",
      "4000/4000 [==============================] - 4s 1ms/step - loss: 0.1201 - acc: 0.4065\n",
      "Epoch 35/50\n",
      "4000/4000 [==============================] - 4s 1ms/step - loss: 0.1201 - acc: 0.4000\n",
      "Epoch 36/50\n",
      "4000/4000 [==============================] - 4s 1ms/step - loss: 0.1201 - acc: 0.3992\n",
      "Epoch 37/50\n",
      "4000/4000 [==============================] - 5s 1ms/step - loss: 0.1201 - acc: 0.4007\n",
      "Epoch 38/50\n",
      "4000/4000 [==============================] - 4s 997us/step - loss: 0.1201 - acc: 0.4051\n",
      "Epoch 39/50\n",
      "4000/4000 [==============================] - 4s 1ms/step - loss: 0.1201 - acc: 0.4037\n",
      "Epoch 40/50\n",
      "4000/4000 [==============================] - 4s 1ms/step - loss: 0.1201 - acc: 0.4033\n",
      "Epoch 41/50\n",
      "4000/4000 [==============================] - 5s 1ms/step - loss: 0.1201 - acc: 0.4072\n",
      "Epoch 42/50\n",
      "4000/4000 [==============================] - 4s 1ms/step - loss: 0.1201 - acc: 0.4176\n",
      "Epoch 43/50\n",
      "4000/4000 [==============================] - 4s 968us/step - loss: 0.1201 - acc: 0.4169\n",
      "Epoch 44/50\n",
      "4000/4000 [==============================] - 4s 1ms/step - loss: 0.1201 - acc: 0.4098\n",
      "Epoch 45/50\n",
      "4000/4000 [==============================] - 5s 1ms/step - loss: 0.1201 - acc: 0.4093\n",
      "Epoch 46/50\n",
      "4000/4000 [==============================] - 5s 1ms/step - loss: 0.1201 - acc: 0.4043\n",
      "Epoch 47/50\n",
      "4000/4000 [==============================] - 4s 1ms/step - loss: 0.1201 - acc: 0.3971\n",
      "Epoch 48/50\n",
      "4000/4000 [==============================] - 4s 1ms/step - loss: 0.1201 - acc: 0.4027\n",
      "Epoch 49/50\n",
      "4000/4000 [==============================] - 4s 1ms/step - loss: 0.1201 - acc: 0.3979\n",
      "Epoch 50/50\n",
      "4000/4000 [==============================] - 4s 996us/step - loss: 0.1201 - acc: 0.4109\n"
     ]
    },
    {
     "data": {
      "text/plain": [
       "<tensorflow.python.keras.callbacks.History at 0x7fd04048b850>"
      ]
     },
     "execution_count": 29,
     "metadata": {},
     "output_type": "execute_result"
    }
   ],
   "source": [
    "opt=tf.keras.optimizers.Nadam(learning_rate=0.001)\n",
    "models.compile(optimizer=opt, loss=\"logcosh\", metrics=[ \"acc\"])\n",
    "models.fit(train_data_normalised,train_labels,1,epochs=50)"
   ]
  },
  {
   "cell_type": "code",
   "execution_count": 30,
   "id": "exempt-flashing",
   "metadata": {},
   "outputs": [
    {
     "name": "stdout",
     "output_type": "stream",
     "text": [
      "999/999 [==============================] - 1s 481us/step - loss: 0.2169 - acc: 0.5045\n"
     ]
    },
    {
     "data": {
      "text/plain": [
       "[0.21688927710056305, 0.5045045018196106]"
      ]
     },
     "execution_count": 30,
     "metadata": {},
     "output_type": "execute_result"
    }
   ],
   "source": [
    "test_data_6 = test_data.reshape((-1, 1, 400))\n",
    "models.evaluate(test_data_6, test_labels,1)\n"
   ]
  },
  {
   "cell_type": "code",
   "execution_count": null,
   "id": "offensive-cosmetic",
   "metadata": {},
   "outputs": [],
   "source": []
  }
 ],
 "metadata": {
  "kernelspec": {
   "display_name": "Python 3",
   "language": "python",
   "name": "python3"
  },
  "language_info": {
   "codemirror_mode": {
    "name": "ipython",
    "version": 3
   },
   "file_extension": ".py",
   "mimetype": "text/x-python",
   "name": "python",
   "nbconvert_exporter": "python",
   "pygments_lexer": "ipython3",
   "version": "3.8.8"
  }
 },
 "nbformat": 4,
 "nbformat_minor": 5
}
